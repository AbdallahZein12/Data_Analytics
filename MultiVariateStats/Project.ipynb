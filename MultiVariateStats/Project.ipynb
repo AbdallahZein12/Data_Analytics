{
 "cells": [
  {
   "cell_type": "markdown",
   "id": "0f67ebea-952d-498f-bfb8-a94064225cb6",
   "metadata": {},
   "source": [
    "<hr style='margin-bottom:30px'>\n",
    "\n",
    "# The Impact of Federal Reserve Interest Rates on S&P 500 Performance: A Statistical and Multivariate Analysis  \n",
    "### Inflation as a Mediator Between Federal Funds Rate and S&P 500. Does inflation mediate the relationship between the federal funds rate and the S&P 500?\n",
    "\n",
    "\n",
    "____\n",
    "\n",
    "<img src='https://www.bankatfirst.com/content/dam/bankatfirst/personal/discover/flourish/interest-rates-rising-article-1536x755.jpg' style='float:right; margin: 30px 30px 30px 30px; width:300px'>\n",
    "\n",
    "Abdallah Abdelmoneim   \n",
    "Dept of Data Analytics of   \n",
    "Long Island University  \n",
    "New York,  United States\n",
    "\n",
    "Data Used: [FredAPI](https://fred.stlouisfed.org/docs/api/fred/)\n",
    "\n",
    "__Series and Frames used__\n",
    "|Data|Definition|\n",
    "|----|----------|\n",
    "|SP500|S&P 500 performance|\n",
    "|FEDFUNDS|Benchmark interest rate set by the Federal Reserve|\n",
    "|CPIAUCSL|Consumer price index for All Urban Consumers (Inflation Rates)|\n",
    "\n"
   ]
  },
  {
   "cell_type": "markdown",
   "id": "6e6faa6f-e416-4e65-9787-a77732bd7f0a",
   "metadata": {},
   "source": [
    "![purple-divider](https://user-images.githubusercontent.com/7065401/52071927-c1cd7100-2562-11e9-908a-dde91ba14e59.png)"
   ]
  },
  {
   "cell_type": "markdown",
   "id": "53d69a93-744d-4543-90a9-6da467255771",
   "metadata": {},
   "source": [
    "### __Step 1: Imports and Setup__"
   ]
  },
  {
   "cell_type": "code",
   "execution_count": 93,
   "id": "0a7cd667-8272-4c3a-99bb-275fe3bf917b",
   "metadata": {
    "tags": []
   },
   "outputs": [],
   "source": [
    "import pandas as pd\n",
    "import numpy as np \n",
    "import matplotlib.pyplot as plt\n",
    "import seaborn as sns \n",
    "import os \n",
    "from fredapi import Fred \n",
    "from functools import reduce\n",
    "import plotly.io as pio\n",
    "import plotly.express as px\n",
    "pio.renderers.default = 'iframe'\n",
    "\n",
    "color_pal = plt.rcParams[\"axes.prop_cycle\"].by_key()[\"color\"]\n",
    "\n",
    "\n",
    "API_KEY = os.environ['FRED_API']\n",
    "\n",
    "pd.set_option('display.max_columns',200)\n",
    "pd.set_option('display.float_format','{:.2f}'.format)\n",
    "plt.style.use('ggplot')\n",
    "sns.set_context('notebook')\n",
    "sns.set_style('darkgrid')\n",
    "\n",
    "fred = Fred(api_key = API_KEY)"
   ]
  },
  {
   "cell_type": "code",
   "execution_count": 94,
   "id": "31e0d1f3-92b8-4d01-8a9c-b994a46599cb",
   "metadata": {
    "tags": []
   },
   "outputs": [
    {
     "data": {
      "text/html": [
       "<div>\n",
       "<style scoped>\n",
       "    .dataframe tbody tr th:only-of-type {\n",
       "        vertical-align: middle;\n",
       "    }\n",
       "\n",
       "    .dataframe tbody tr th {\n",
       "        vertical-align: top;\n",
       "    }\n",
       "\n",
       "    .dataframe thead th {\n",
       "        text-align: right;\n",
       "    }\n",
       "</style>\n",
       "<table border=\"1\" class=\"dataframe\">\n",
       "  <thead>\n",
       "    <tr style=\"text-align: right;\">\n",
       "      <th></th>\n",
       "      <th>id</th>\n",
       "      <th>realtime_start</th>\n",
       "      <th>realtime_end</th>\n",
       "      <th>title</th>\n",
       "      <th>observation_start</th>\n",
       "      <th>observation_end</th>\n",
       "      <th>frequency</th>\n",
       "      <th>frequency_short</th>\n",
       "      <th>units</th>\n",
       "      <th>units_short</th>\n",
       "      <th>seasonal_adjustment</th>\n",
       "      <th>seasonal_adjustment_short</th>\n",
       "      <th>last_updated</th>\n",
       "      <th>popularity</th>\n",
       "      <th>notes</th>\n",
       "    </tr>\n",
       "    <tr>\n",
       "      <th>series id</th>\n",
       "      <th></th>\n",
       "      <th></th>\n",
       "      <th></th>\n",
       "      <th></th>\n",
       "      <th></th>\n",
       "      <th></th>\n",
       "      <th></th>\n",
       "      <th></th>\n",
       "      <th></th>\n",
       "      <th></th>\n",
       "      <th></th>\n",
       "      <th></th>\n",
       "      <th></th>\n",
       "      <th></th>\n",
       "      <th></th>\n",
       "    </tr>\n",
       "  </thead>\n",
       "  <tbody>\n",
       "    <tr>\n",
       "      <th>BAMLH0A0HYM2</th>\n",
       "      <td>BAMLH0A0HYM2</td>\n",
       "      <td>2024-12-16</td>\n",
       "      <td>2024-12-16</td>\n",
       "      <td>ICE BofA US High Yield Index Option-Adjusted S...</td>\n",
       "      <td>1996-12-31</td>\n",
       "      <td>2024-12-12</td>\n",
       "      <td>Daily, Close</td>\n",
       "      <td>D</td>\n",
       "      <td>Percent</td>\n",
       "      <td>%</td>\n",
       "      <td>Not Seasonally Adjusted</td>\n",
       "      <td>NSA</td>\n",
       "      <td>2024-12-13 08:54:09-06:00</td>\n",
       "      <td>92</td>\n",
       "      <td>The ICE BofA Option-Adjusted Spreads (OASs) ar...</td>\n",
       "    </tr>\n",
       "    <tr>\n",
       "      <th>CSUSHPINSA</th>\n",
       "      <td>CSUSHPINSA</td>\n",
       "      <td>2024-12-16</td>\n",
       "      <td>2024-12-16</td>\n",
       "      <td>S&amp;P CoreLogic Case-Shiller U.S. National Home ...</td>\n",
       "      <td>1987-01-01</td>\n",
       "      <td>2024-09-01</td>\n",
       "      <td>Monthly</td>\n",
       "      <td>M</td>\n",
       "      <td>Index Jan 2000=100</td>\n",
       "      <td>Index Jan 2000=100</td>\n",
       "      <td>Not Seasonally Adjusted</td>\n",
       "      <td>NSA</td>\n",
       "      <td>2024-11-26 08:12:02-06:00</td>\n",
       "      <td>88</td>\n",
       "      <td>For more information regarding the index, plea...</td>\n",
       "    </tr>\n",
       "    <tr>\n",
       "      <th>SP500</th>\n",
       "      <td>SP500</td>\n",
       "      <td>2024-12-16</td>\n",
       "      <td>2024-12-16</td>\n",
       "      <td>S&amp;P 500</td>\n",
       "      <td>2014-12-15</td>\n",
       "      <td>2024-12-13</td>\n",
       "      <td>Daily, Close</td>\n",
       "      <td>D</td>\n",
       "      <td>Index</td>\n",
       "      <td>Index</td>\n",
       "      <td>Not Seasonally Adjusted</td>\n",
       "      <td>NSA</td>\n",
       "      <td>2024-12-13 19:11:46-06:00</td>\n",
       "      <td>83</td>\n",
       "      <td>The observations for the S&amp;P 500 represent the...</td>\n",
       "    </tr>\n",
       "    <tr>\n",
       "      <th>BAMLH0A0HYM2EY</th>\n",
       "      <td>BAMLH0A0HYM2EY</td>\n",
       "      <td>2024-12-16</td>\n",
       "      <td>2024-12-16</td>\n",
       "      <td>ICE BofA US High Yield Index Effective Yield</td>\n",
       "      <td>1996-12-31</td>\n",
       "      <td>2024-12-12</td>\n",
       "      <td>Daily, Close</td>\n",
       "      <td>D</td>\n",
       "      <td>Percent</td>\n",
       "      <td>%</td>\n",
       "      <td>Not Seasonally Adjusted</td>\n",
       "      <td>NSA</td>\n",
       "      <td>2024-12-13 08:54:12-06:00</td>\n",
       "      <td>82</td>\n",
       "      <td>This data represents the effective yield of th...</td>\n",
       "    </tr>\n",
       "    <tr>\n",
       "      <th>BAMLC0A0CM</th>\n",
       "      <td>BAMLC0A0CM</td>\n",
       "      <td>2024-12-16</td>\n",
       "      <td>2024-12-16</td>\n",
       "      <td>ICE BofA US Corporate Index Option-Adjusted Sp...</td>\n",
       "      <td>1996-12-31</td>\n",
       "      <td>2024-12-12</td>\n",
       "      <td>Daily, Close</td>\n",
       "      <td>D</td>\n",
       "      <td>Percent</td>\n",
       "      <td>%</td>\n",
       "      <td>Not Seasonally Adjusted</td>\n",
       "      <td>NSA</td>\n",
       "      <td>2024-12-13 09:00:01-06:00</td>\n",
       "      <td>78</td>\n",
       "      <td>The ICE BofA Option-Adjusted Spreads (OASs) ar...</td>\n",
       "    </tr>\n",
       "  </tbody>\n",
       "</table>\n",
       "</div>"
      ],
      "text/plain": [
       "                            id realtime_start realtime_end  \\\n",
       "series id                                                    \n",
       "BAMLH0A0HYM2      BAMLH0A0HYM2     2024-12-16   2024-12-16   \n",
       "CSUSHPINSA          CSUSHPINSA     2024-12-16   2024-12-16   \n",
       "SP500                    SP500     2024-12-16   2024-12-16   \n",
       "BAMLH0A0HYM2EY  BAMLH0A0HYM2EY     2024-12-16   2024-12-16   \n",
       "BAMLC0A0CM          BAMLC0A0CM     2024-12-16   2024-12-16   \n",
       "\n",
       "                                                            title  \\\n",
       "series id                                                           \n",
       "BAMLH0A0HYM2    ICE BofA US High Yield Index Option-Adjusted S...   \n",
       "CSUSHPINSA      S&P CoreLogic Case-Shiller U.S. National Home ...   \n",
       "SP500                                                     S&P 500   \n",
       "BAMLH0A0HYM2EY       ICE BofA US High Yield Index Effective Yield   \n",
       "BAMLC0A0CM      ICE BofA US Corporate Index Option-Adjusted Sp...   \n",
       "\n",
       "               observation_start observation_end     frequency  \\\n",
       "series id                                                        \n",
       "BAMLH0A0HYM2          1996-12-31      2024-12-12  Daily, Close   \n",
       "CSUSHPINSA            1987-01-01      2024-09-01       Monthly   \n",
       "SP500                 2014-12-15      2024-12-13  Daily, Close   \n",
       "BAMLH0A0HYM2EY        1996-12-31      2024-12-12  Daily, Close   \n",
       "BAMLC0A0CM            1996-12-31      2024-12-12  Daily, Close   \n",
       "\n",
       "               frequency_short               units         units_short  \\\n",
       "series id                                                                \n",
       "BAMLH0A0HYM2                 D             Percent                   %   \n",
       "CSUSHPINSA                   M  Index Jan 2000=100  Index Jan 2000=100   \n",
       "SP500                        D               Index               Index   \n",
       "BAMLH0A0HYM2EY               D             Percent                   %   \n",
       "BAMLC0A0CM                   D             Percent                   %   \n",
       "\n",
       "                    seasonal_adjustment seasonal_adjustment_short  \\\n",
       "series id                                                           \n",
       "BAMLH0A0HYM2    Not Seasonally Adjusted                       NSA   \n",
       "CSUSHPINSA      Not Seasonally Adjusted                       NSA   \n",
       "SP500           Not Seasonally Adjusted                       NSA   \n",
       "BAMLH0A0HYM2EY  Not Seasonally Adjusted                       NSA   \n",
       "BAMLC0A0CM      Not Seasonally Adjusted                       NSA   \n",
       "\n",
       "                             last_updated popularity  \\\n",
       "series id                                              \n",
       "BAMLH0A0HYM2    2024-12-13 08:54:09-06:00         92   \n",
       "CSUSHPINSA      2024-11-26 08:12:02-06:00         88   \n",
       "SP500           2024-12-13 19:11:46-06:00         83   \n",
       "BAMLH0A0HYM2EY  2024-12-13 08:54:12-06:00         82   \n",
       "BAMLC0A0CM      2024-12-13 09:00:01-06:00         78   \n",
       "\n",
       "                                                            notes  \n",
       "series id                                                          \n",
       "BAMLH0A0HYM2    The ICE BofA Option-Adjusted Spreads (OASs) ar...  \n",
       "CSUSHPINSA      For more information regarding the index, plea...  \n",
       "SP500           The observations for the S&P 500 represent the...  \n",
       "BAMLH0A0HYM2EY  This data represents the effective yield of th...  \n",
       "BAMLC0A0CM      The ICE BofA Option-Adjusted Spreads (OASs) ar...  "
      ]
     },
     "execution_count": 94,
     "metadata": {},
     "output_type": "execute_result"
    }
   ],
   "source": [
    "sp_search = fred.search('S&P',order_by='popularity')\n",
    "sp_search.head()"
   ]
  },
  {
   "cell_type": "code",
   "execution_count": 95,
   "id": "19c12c2a-4e07-4f29-84eb-99151784dc83",
   "metadata": {},
   "outputs": [],
   "source": [
    "sp500 = pd.DataFrame(fred.get_series('sp500',frequency='m'))\n",
    "federal_funds_rate = pd.DataFrame(fred.get_series(\"FEDFUNDS\",frequency='m'))\n",
    "cpi = pd.DataFrame(fred.get_series('CPIAUCSL',frequency='m'))\n",
    "unrate = pd.DataFrame(fred.get_series('UNRATE',frequency='q'))"
   ]
  },
  {
   "cell_type": "code",
   "execution_count": 96,
   "id": "e70e87f9-8cd1-4a37-8dd3-0b1933ff4112",
   "metadata": {
    "tags": []
   },
   "outputs": [
    {
     "name": "stdout",
     "output_type": "stream",
     "text": [
      "[(                 0\n",
      "2014-12-01     NaN\n",
      "2015-01-01 2028.18\n",
      "2015-02-01 2082.20\n",
      "2015-03-01 2079.99\n",
      "2015-04-01 2094.86\n",
      "...            ...\n",
      "2024-08-01 5478.21\n",
      "2024-09-01 5621.26\n",
      "2024-10-01 5792.32\n",
      "2024-11-01 5929.92\n",
      "2024-12-01     NaN\n",
      "\n",
      "[121 rows x 1 columns], 'sp500'), (              0\n",
      "1954-07-01 0.80\n",
      "1954-08-01 1.22\n",
      "1954-09-01 1.07\n",
      "1954-10-01 0.85\n",
      "1954-11-01 0.83\n",
      "...         ...\n",
      "2024-07-01 5.33\n",
      "2024-08-01 5.33\n",
      "2024-09-01 5.13\n",
      "2024-10-01 4.83\n",
      "2024-11-01 4.64\n",
      "\n",
      "[845 rows x 1 columns], 'federal_funds_rate'), (                0\n",
      "1947-01-01  21.48\n",
      "1947-02-01  21.62\n",
      "1947-03-01  22.00\n",
      "1947-04-01  22.00\n",
      "1947-05-01  21.95\n",
      "...           ...\n",
      "2024-07-01 313.53\n",
      "2024-08-01 314.12\n",
      "2024-09-01 314.69\n",
      "2024-10-01 315.45\n",
      "2024-11-01 316.44\n",
      "\n",
      "[935 rows x 1 columns], 'cpi'), (              0\n",
      "1948-01-01 3.70\n",
      "1948-04-01 3.70\n",
      "1948-07-01 3.80\n",
      "1948-10-01 3.80\n",
      "1949-01-01 4.70\n",
      "...         ...\n",
      "2023-10-01 3.70\n",
      "2024-01-01 3.80\n",
      "2024-04-01 4.00\n",
      "2024-07-01 4.20\n",
      "2024-10-01  NaN\n",
      "\n",
      "[308 rows x 1 columns], 'unemployment')]\n"
     ]
    }
   ],
   "source": [
    "dfs = [sp500, federal_funds_rate, cpi, unrate]\n",
    "names = ['sp500','federal_funds_rate','cpi','unemployment']\n",
    "dfs_names = list(zip(dfs, names))\n",
    "print(dfs_names)"
   ]
  },
  {
   "cell_type": "code",
   "execution_count": 9,
   "id": "d480b200-7846-4f33-80e5-2d07c6339e4b",
   "metadata": {
    "tags": []
   },
   "outputs": [],
   "source": [
    "for i in dfs_names:\n",
    "    i[0].sort_index(ascending=True, inplace=True)\n",
    "    i[0].rename(columns={0:i[1]},inplace=True)\n",
    "    i[0].index = pd.to_datetime(i[0].index)"
   ]
  },
  {
   "cell_type": "code",
   "execution_count": 10,
   "id": "a80c57ab-5e16-45f9-a226-9e6a09cc4e6e",
   "metadata": {
    "tags": []
   },
   "outputs": [
    {
     "data": {
      "text/html": [
       "<div>\n",
       "<style scoped>\n",
       "    .dataframe tbody tr th:only-of-type {\n",
       "        vertical-align: middle;\n",
       "    }\n",
       "\n",
       "    .dataframe tbody tr th {\n",
       "        vertical-align: top;\n",
       "    }\n",
       "\n",
       "    .dataframe thead th {\n",
       "        text-align: right;\n",
       "    }\n",
       "</style>\n",
       "<table border=\"1\" class=\"dataframe\">\n",
       "  <thead>\n",
       "    <tr style=\"text-align: right;\">\n",
       "      <th></th>\n",
       "      <th>sp500</th>\n",
       "    </tr>\n",
       "  </thead>\n",
       "  <tbody>\n",
       "    <tr>\n",
       "      <th>2014-12-01</th>\n",
       "      <td>NaN</td>\n",
       "    </tr>\n",
       "    <tr>\n",
       "      <th>2015-01-01</th>\n",
       "      <td>2028.18</td>\n",
       "    </tr>\n",
       "    <tr>\n",
       "      <th>2015-02-01</th>\n",
       "      <td>2082.20</td>\n",
       "    </tr>\n",
       "    <tr>\n",
       "      <th>2015-03-01</th>\n",
       "      <td>2079.99</td>\n",
       "    </tr>\n",
       "    <tr>\n",
       "      <th>2015-04-01</th>\n",
       "      <td>2094.86</td>\n",
       "    </tr>\n",
       "    <tr>\n",
       "      <th>...</th>\n",
       "      <td>...</td>\n",
       "    </tr>\n",
       "    <tr>\n",
       "      <th>2024-08-01</th>\n",
       "      <td>5478.21</td>\n",
       "    </tr>\n",
       "    <tr>\n",
       "      <th>2024-09-01</th>\n",
       "      <td>5621.26</td>\n",
       "    </tr>\n",
       "    <tr>\n",
       "      <th>2024-10-01</th>\n",
       "      <td>5792.32</td>\n",
       "    </tr>\n",
       "    <tr>\n",
       "      <th>2024-11-01</th>\n",
       "      <td>5929.92</td>\n",
       "    </tr>\n",
       "    <tr>\n",
       "      <th>2024-12-01</th>\n",
       "      <td>NaN</td>\n",
       "    </tr>\n",
       "  </tbody>\n",
       "</table>\n",
       "<p>121 rows × 1 columns</p>\n",
       "</div>"
      ],
      "text/plain": [
       "             sp500\n",
       "2014-12-01     NaN\n",
       "2015-01-01 2028.18\n",
       "2015-02-01 2082.20\n",
       "2015-03-01 2079.99\n",
       "2015-04-01 2094.86\n",
       "...            ...\n",
       "2024-08-01 5478.21\n",
       "2024-09-01 5621.26\n",
       "2024-10-01 5792.32\n",
       "2024-11-01 5929.92\n",
       "2024-12-01     NaN\n",
       "\n",
       "[121 rows x 1 columns]"
      ]
     },
     "execution_count": 10,
     "metadata": {},
     "output_type": "execute_result"
    }
   ],
   "source": [
    "sp500"
   ]
  },
  {
   "cell_type": "code",
   "execution_count": 11,
   "id": "97adc6d3-7f65-4cd8-b733-6fd1b3ddcce2",
   "metadata": {
    "tags": []
   },
   "outputs": [
    {
     "data": {
      "text/html": [
       "<div>\n",
       "<style scoped>\n",
       "    .dataframe tbody tr th:only-of-type {\n",
       "        vertical-align: middle;\n",
       "    }\n",
       "\n",
       "    .dataframe tbody tr th {\n",
       "        vertical-align: top;\n",
       "    }\n",
       "\n",
       "    .dataframe thead th {\n",
       "        text-align: right;\n",
       "    }\n",
       "</style>\n",
       "<table border=\"1\" class=\"dataframe\">\n",
       "  <thead>\n",
       "    <tr style=\"text-align: right;\">\n",
       "      <th></th>\n",
       "      <th>cpi</th>\n",
       "    </tr>\n",
       "  </thead>\n",
       "  <tbody>\n",
       "    <tr>\n",
       "      <th>1947-01-01</th>\n",
       "      <td>21.48</td>\n",
       "    </tr>\n",
       "    <tr>\n",
       "      <th>1947-02-01</th>\n",
       "      <td>21.62</td>\n",
       "    </tr>\n",
       "    <tr>\n",
       "      <th>1947-03-01</th>\n",
       "      <td>22.00</td>\n",
       "    </tr>\n",
       "    <tr>\n",
       "      <th>1947-04-01</th>\n",
       "      <td>22.00</td>\n",
       "    </tr>\n",
       "    <tr>\n",
       "      <th>1947-05-01</th>\n",
       "      <td>21.95</td>\n",
       "    </tr>\n",
       "    <tr>\n",
       "      <th>...</th>\n",
       "      <td>...</td>\n",
       "    </tr>\n",
       "    <tr>\n",
       "      <th>2024-07-01</th>\n",
       "      <td>313.53</td>\n",
       "    </tr>\n",
       "    <tr>\n",
       "      <th>2024-08-01</th>\n",
       "      <td>314.12</td>\n",
       "    </tr>\n",
       "    <tr>\n",
       "      <th>2024-09-01</th>\n",
       "      <td>314.69</td>\n",
       "    </tr>\n",
       "    <tr>\n",
       "      <th>2024-10-01</th>\n",
       "      <td>315.45</td>\n",
       "    </tr>\n",
       "    <tr>\n",
       "      <th>2024-11-01</th>\n",
       "      <td>316.44</td>\n",
       "    </tr>\n",
       "  </tbody>\n",
       "</table>\n",
       "<p>935 rows × 1 columns</p>\n",
       "</div>"
      ],
      "text/plain": [
       "              cpi\n",
       "1947-01-01  21.48\n",
       "1947-02-01  21.62\n",
       "1947-03-01  22.00\n",
       "1947-04-01  22.00\n",
       "1947-05-01  21.95\n",
       "...           ...\n",
       "2024-07-01 313.53\n",
       "2024-08-01 314.12\n",
       "2024-09-01 314.69\n",
       "2024-10-01 315.45\n",
       "2024-11-01 316.44\n",
       "\n",
       "[935 rows x 1 columns]"
      ]
     },
     "execution_count": 11,
     "metadata": {},
     "output_type": "execute_result"
    }
   ],
   "source": [
    "cpi"
   ]
  },
  {
   "cell_type": "code",
   "execution_count": 12,
   "id": "8de7fe14-1598-4b49-a768-c73a0f834312",
   "metadata": {
    "tags": []
   },
   "outputs": [
    {
     "data": {
      "text/html": [
       "<div>\n",
       "<style scoped>\n",
       "    .dataframe tbody tr th:only-of-type {\n",
       "        vertical-align: middle;\n",
       "    }\n",
       "\n",
       "    .dataframe tbody tr th {\n",
       "        vertical-align: top;\n",
       "    }\n",
       "\n",
       "    .dataframe thead th {\n",
       "        text-align: right;\n",
       "    }\n",
       "</style>\n",
       "<table border=\"1\" class=\"dataframe\">\n",
       "  <thead>\n",
       "    <tr style=\"text-align: right;\">\n",
       "      <th></th>\n",
       "      <th>unemployment</th>\n",
       "    </tr>\n",
       "  </thead>\n",
       "  <tbody>\n",
       "    <tr>\n",
       "      <th>1948-01-01</th>\n",
       "      <td>3.70</td>\n",
       "    </tr>\n",
       "    <tr>\n",
       "      <th>1948-04-01</th>\n",
       "      <td>3.70</td>\n",
       "    </tr>\n",
       "    <tr>\n",
       "      <th>1948-07-01</th>\n",
       "      <td>3.80</td>\n",
       "    </tr>\n",
       "    <tr>\n",
       "      <th>1948-10-01</th>\n",
       "      <td>3.80</td>\n",
       "    </tr>\n",
       "    <tr>\n",
       "      <th>1949-01-01</th>\n",
       "      <td>4.70</td>\n",
       "    </tr>\n",
       "    <tr>\n",
       "      <th>...</th>\n",
       "      <td>...</td>\n",
       "    </tr>\n",
       "    <tr>\n",
       "      <th>2023-10-01</th>\n",
       "      <td>3.70</td>\n",
       "    </tr>\n",
       "    <tr>\n",
       "      <th>2024-01-01</th>\n",
       "      <td>3.80</td>\n",
       "    </tr>\n",
       "    <tr>\n",
       "      <th>2024-04-01</th>\n",
       "      <td>4.00</td>\n",
       "    </tr>\n",
       "    <tr>\n",
       "      <th>2024-07-01</th>\n",
       "      <td>4.20</td>\n",
       "    </tr>\n",
       "    <tr>\n",
       "      <th>2024-10-01</th>\n",
       "      <td>NaN</td>\n",
       "    </tr>\n",
       "  </tbody>\n",
       "</table>\n",
       "<p>308 rows × 1 columns</p>\n",
       "</div>"
      ],
      "text/plain": [
       "            unemployment\n",
       "1948-01-01          3.70\n",
       "1948-04-01          3.70\n",
       "1948-07-01          3.80\n",
       "1948-10-01          3.80\n",
       "1949-01-01          4.70\n",
       "...                  ...\n",
       "2023-10-01          3.70\n",
       "2024-01-01          3.80\n",
       "2024-04-01          4.00\n",
       "2024-07-01          4.20\n",
       "2024-10-01           NaN\n",
       "\n",
       "[308 rows x 1 columns]"
      ]
     },
     "execution_count": 12,
     "metadata": {},
     "output_type": "execute_result"
    }
   ],
   "source": [
    "unrate"
   ]
  },
  {
   "cell_type": "markdown",
   "id": "27315333-80dd-44a1-8b17-fea1a1523e91",
   "metadata": {},
   "source": [
    "![green-divider](https://user-images.githubusercontent.com/7065401/52071924-c003ad80-2562-11e9-8297-1c6595f8a7ff.png)"
   ]
  },
  {
   "cell_type": "markdown",
   "id": "43383c40-1285-4cc2-9409-7b6a81148a37",
   "metadata": {},
   "source": [
    "### __Step 2: Data Preperation__ "
   ]
  },
  {
   "cell_type": "code",
   "execution_count": 13,
   "id": "317ec5eb-25e9-43d6-8059-010a06c6c637",
   "metadata": {
    "tags": []
   },
   "outputs": [
    {
     "data": {
      "text/html": [
       "<div>\n",
       "<style scoped>\n",
       "    .dataframe tbody tr th:only-of-type {\n",
       "        vertical-align: middle;\n",
       "    }\n",
       "\n",
       "    .dataframe tbody tr th {\n",
       "        vertical-align: top;\n",
       "    }\n",
       "\n",
       "    .dataframe thead th {\n",
       "        text-align: right;\n",
       "    }\n",
       "</style>\n",
       "<table border=\"1\" class=\"dataframe\">\n",
       "  <thead>\n",
       "    <tr style=\"text-align: right;\">\n",
       "      <th></th>\n",
       "      <th>sp500</th>\n",
       "      <th>federal_funds_rate</th>\n",
       "      <th>cpi</th>\n",
       "      <th>unemployment</th>\n",
       "    </tr>\n",
       "  </thead>\n",
       "  <tbody>\n",
       "    <tr>\n",
       "      <th>2024-10-01</th>\n",
       "      <td>5792.32</td>\n",
       "      <td>4.83</td>\n",
       "      <td>315.45</td>\n",
       "      <td>NaN</td>\n",
       "    </tr>\n",
       "    <tr>\n",
       "      <th>2024-07-01</th>\n",
       "      <td>5538.00</td>\n",
       "      <td>5.33</td>\n",
       "      <td>313.53</td>\n",
       "      <td>4.20</td>\n",
       "    </tr>\n",
       "    <tr>\n",
       "      <th>2024-04-01</th>\n",
       "      <td>5112.49</td>\n",
       "      <td>5.33</td>\n",
       "      <td>313.21</td>\n",
       "      <td>4.00</td>\n",
       "    </tr>\n",
       "    <tr>\n",
       "      <th>2024-01-01</th>\n",
       "      <td>4804.49</td>\n",
       "      <td>5.33</td>\n",
       "      <td>309.69</td>\n",
       "      <td>3.80</td>\n",
       "    </tr>\n",
       "    <tr>\n",
       "      <th>2023-10-01</th>\n",
       "      <td>4269.40</td>\n",
       "      <td>5.33</td>\n",
       "      <td>307.53</td>\n",
       "      <td>3.70</td>\n",
       "    </tr>\n",
       "    <tr>\n",
       "      <th>2023-07-01</th>\n",
       "      <td>4508.08</td>\n",
       "      <td>5.12</td>\n",
       "      <td>304.63</td>\n",
       "      <td>3.70</td>\n",
       "    </tr>\n",
       "    <tr>\n",
       "      <th>2023-04-01</th>\n",
       "      <td>4121.47</td>\n",
       "      <td>4.83</td>\n",
       "      <td>303.03</td>\n",
       "      <td>3.60</td>\n",
       "    </tr>\n",
       "    <tr>\n",
       "      <th>2023-01-01</th>\n",
       "      <td>3960.66</td>\n",
       "      <td>4.33</td>\n",
       "      <td>300.36</td>\n",
       "      <td>3.50</td>\n",
       "    </tr>\n",
       "    <tr>\n",
       "      <th>2022-10-01</th>\n",
       "      <td>3726.05</td>\n",
       "      <td>3.08</td>\n",
       "      <td>297.86</td>\n",
       "      <td>3.60</td>\n",
       "    </tr>\n",
       "    <tr>\n",
       "      <th>2022-07-01</th>\n",
       "      <td>3911.73</td>\n",
       "      <td>1.68</td>\n",
       "      <td>294.98</td>\n",
       "      <td>3.50</td>\n",
       "    </tr>\n",
       "    <tr>\n",
       "      <th>2022-04-01</th>\n",
       "      <td>4391.30</td>\n",
       "      <td>0.33</td>\n",
       "      <td>288.76</td>\n",
       "      <td>3.60</td>\n",
       "    </tr>\n",
       "    <tr>\n",
       "      <th>2022-01-01</th>\n",
       "      <td>4573.82</td>\n",
       "      <td>0.08</td>\n",
       "      <td>282.39</td>\n",
       "      <td>3.80</td>\n",
       "    </tr>\n",
       "    <tr>\n",
       "      <th>2021-10-01</th>\n",
       "      <td>4460.71</td>\n",
       "      <td>0.08</td>\n",
       "      <td>276.43</td>\n",
       "      <td>4.20</td>\n",
       "    </tr>\n",
       "    <tr>\n",
       "      <th>2021-07-01</th>\n",
       "      <td>4363.71</td>\n",
       "      <td>0.10</td>\n",
       "      <td>271.99</td>\n",
       "      <td>5.10</td>\n",
       "    </tr>\n",
       "    <tr>\n",
       "      <th>2021-04-01</th>\n",
       "      <td>4141.18</td>\n",
       "      <td>0.07</td>\n",
       "      <td>266.75</td>\n",
       "      <td>5.90</td>\n",
       "    </tr>\n",
       "    <tr>\n",
       "      <th>2021-01-01</th>\n",
       "      <td>3793.75</td>\n",
       "      <td>0.09</td>\n",
       "      <td>262.52</td>\n",
       "      <td>6.20</td>\n",
       "    </tr>\n",
       "    <tr>\n",
       "      <th>2020-10-01</th>\n",
       "      <td>3418.70</td>\n",
       "      <td>0.09</td>\n",
       "      <td>260.25</td>\n",
       "      <td>6.70</td>\n",
       "    </tr>\n",
       "    <tr>\n",
       "      <th>2020-07-01</th>\n",
       "      <td>3207.62</td>\n",
       "      <td>0.09</td>\n",
       "      <td>258.41</td>\n",
       "      <td>8.80</td>\n",
       "    </tr>\n",
       "    <tr>\n",
       "      <th>2020-04-01</th>\n",
       "      <td>2761.98</td>\n",
       "      <td>0.05</td>\n",
       "      <td>256.13</td>\n",
       "      <td>13.00</td>\n",
       "    </tr>\n",
       "    <tr>\n",
       "      <th>2020-01-01</th>\n",
       "      <td>3278.20</td>\n",
       "      <td>1.55</td>\n",
       "      <td>258.91</td>\n",
       "      <td>3.80</td>\n",
       "    </tr>\n",
       "    <tr>\n",
       "      <th>2019-10-01</th>\n",
       "      <td>2977.68</td>\n",
       "      <td>1.83</td>\n",
       "      <td>257.15</td>\n",
       "      <td>3.60</td>\n",
       "    </tr>\n",
       "    <tr>\n",
       "      <th>2019-07-01</th>\n",
       "      <td>2996.11</td>\n",
       "      <td>2.40</td>\n",
       "      <td>255.80</td>\n",
       "      <td>3.60</td>\n",
       "    </tr>\n",
       "    <tr>\n",
       "      <th>2019-04-01</th>\n",
       "      <td>2903.80</td>\n",
       "      <td>2.42</td>\n",
       "      <td>255.23</td>\n",
       "      <td>3.60</td>\n",
       "    </tr>\n",
       "    <tr>\n",
       "      <th>2019-01-01</th>\n",
       "      <td>2607.39</td>\n",
       "      <td>2.40</td>\n",
       "      <td>252.56</td>\n",
       "      <td>3.90</td>\n",
       "    </tr>\n",
       "    <tr>\n",
       "      <th>2018-10-01</th>\n",
       "      <td>2785.46</td>\n",
       "      <td>2.19</td>\n",
       "      <td>252.77</td>\n",
       "      <td>3.80</td>\n",
       "    </tr>\n",
       "    <tr>\n",
       "      <th>2018-07-01</th>\n",
       "      <td>2793.64</td>\n",
       "      <td>1.91</td>\n",
       "      <td>251.21</td>\n",
       "      <td>3.80</td>\n",
       "    </tr>\n",
       "    <tr>\n",
       "      <th>2018-04-01</th>\n",
       "      <td>2653.63</td>\n",
       "      <td>1.69</td>\n",
       "      <td>250.23</td>\n",
       "      <td>3.90</td>\n",
       "    </tr>\n",
       "    <tr>\n",
       "      <th>2018-01-01</th>\n",
       "      <td>2789.80</td>\n",
       "      <td>1.41</td>\n",
       "      <td>248.86</td>\n",
       "      <td>4.00</td>\n",
       "    </tr>\n",
       "    <tr>\n",
       "      <th>2017-10-01</th>\n",
       "      <td>2557.00</td>\n",
       "      <td>1.15</td>\n",
       "      <td>246.63</td>\n",
       "      <td>4.20</td>\n",
       "    </tr>\n",
       "    <tr>\n",
       "      <th>2017-07-01</th>\n",
       "      <td>2454.10</td>\n",
       "      <td>1.15</td>\n",
       "      <td>244.24</td>\n",
       "      <td>4.30</td>\n",
       "    </tr>\n",
       "    <tr>\n",
       "      <th>2017-04-01</th>\n",
       "      <td>2359.31</td>\n",
       "      <td>0.90</td>\n",
       "      <td>244.19</td>\n",
       "      <td>4.40</td>\n",
       "    </tr>\n",
       "    <tr>\n",
       "      <th>2017-01-01</th>\n",
       "      <td>2275.12</td>\n",
       "      <td>0.65</td>\n",
       "      <td>243.62</td>\n",
       "      <td>4.60</td>\n",
       "    </tr>\n",
       "    <tr>\n",
       "      <th>2016-10-01</th>\n",
       "      <td>2143.02</td>\n",
       "      <td>0.40</td>\n",
       "      <td>241.74</td>\n",
       "      <td>4.80</td>\n",
       "    </tr>\n",
       "    <tr>\n",
       "      <th>2016-07-01</th>\n",
       "      <td>2148.90</td>\n",
       "      <td>0.39</td>\n",
       "      <td>240.10</td>\n",
       "      <td>4.90</td>\n",
       "    </tr>\n",
       "    <tr>\n",
       "      <th>2016-04-01</th>\n",
       "      <td>2075.54</td>\n",
       "      <td>0.37</td>\n",
       "      <td>238.99</td>\n",
       "      <td>4.90</td>\n",
       "    </tr>\n",
       "    <tr>\n",
       "      <th>2016-01-01</th>\n",
       "      <td>1918.60</td>\n",
       "      <td>0.34</td>\n",
       "      <td>237.65</td>\n",
       "      <td>4.90</td>\n",
       "    </tr>\n",
       "    <tr>\n",
       "      <th>2015-10-01</th>\n",
       "      <td>2024.81</td>\n",
       "      <td>0.12</td>\n",
       "      <td>237.73</td>\n",
       "      <td>5.00</td>\n",
       "    </tr>\n",
       "    <tr>\n",
       "      <th>2015-07-01</th>\n",
       "      <td>2094.14</td>\n",
       "      <td>0.13</td>\n",
       "      <td>238.03</td>\n",
       "      <td>5.10</td>\n",
       "    </tr>\n",
       "    <tr>\n",
       "      <th>2015-04-01</th>\n",
       "      <td>2094.86</td>\n",
       "      <td>0.12</td>\n",
       "      <td>236.22</td>\n",
       "      <td>5.40</td>\n",
       "    </tr>\n",
       "    <tr>\n",
       "      <th>2015-01-01</th>\n",
       "      <td>2028.18</td>\n",
       "      <td>0.11</td>\n",
       "      <td>234.75</td>\n",
       "      <td>5.50</td>\n",
       "    </tr>\n",
       "  </tbody>\n",
       "</table>\n",
       "</div>"
      ],
      "text/plain": [
       "             sp500  federal_funds_rate    cpi  unemployment\n",
       "2024-10-01 5792.32                4.83 315.45           NaN\n",
       "2024-07-01 5538.00                5.33 313.53          4.20\n",
       "2024-04-01 5112.49                5.33 313.21          4.00\n",
       "2024-01-01 4804.49                5.33 309.69          3.80\n",
       "2023-10-01 4269.40                5.33 307.53          3.70\n",
       "2023-07-01 4508.08                5.12 304.63          3.70\n",
       "2023-04-01 4121.47                4.83 303.03          3.60\n",
       "2023-01-01 3960.66                4.33 300.36          3.50\n",
       "2022-10-01 3726.05                3.08 297.86          3.60\n",
       "2022-07-01 3911.73                1.68 294.98          3.50\n",
       "2022-04-01 4391.30                0.33 288.76          3.60\n",
       "2022-01-01 4573.82                0.08 282.39          3.80\n",
       "2021-10-01 4460.71                0.08 276.43          4.20\n",
       "2021-07-01 4363.71                0.10 271.99          5.10\n",
       "2021-04-01 4141.18                0.07 266.75          5.90\n",
       "2021-01-01 3793.75                0.09 262.52          6.20\n",
       "2020-10-01 3418.70                0.09 260.25          6.70\n",
       "2020-07-01 3207.62                0.09 258.41          8.80\n",
       "2020-04-01 2761.98                0.05 256.13         13.00\n",
       "2020-01-01 3278.20                1.55 258.91          3.80\n",
       "2019-10-01 2977.68                1.83 257.15          3.60\n",
       "2019-07-01 2996.11                2.40 255.80          3.60\n",
       "2019-04-01 2903.80                2.42 255.23          3.60\n",
       "2019-01-01 2607.39                2.40 252.56          3.90\n",
       "2018-10-01 2785.46                2.19 252.77          3.80\n",
       "2018-07-01 2793.64                1.91 251.21          3.80\n",
       "2018-04-01 2653.63                1.69 250.23          3.90\n",
       "2018-01-01 2789.80                1.41 248.86          4.00\n",
       "2017-10-01 2557.00                1.15 246.63          4.20\n",
       "2017-07-01 2454.10                1.15 244.24          4.30\n",
       "2017-04-01 2359.31                0.90 244.19          4.40\n",
       "2017-01-01 2275.12                0.65 243.62          4.60\n",
       "2016-10-01 2143.02                0.40 241.74          4.80\n",
       "2016-07-01 2148.90                0.39 240.10          4.90\n",
       "2016-04-01 2075.54                0.37 238.99          4.90\n",
       "2016-01-01 1918.60                0.34 237.65          4.90\n",
       "2015-10-01 2024.81                0.12 237.73          5.00\n",
       "2015-07-01 2094.14                0.13 238.03          5.10\n",
       "2015-04-01 2094.86                0.12 236.22          5.40\n",
       "2015-01-01 2028.18                0.11 234.75          5.50"
      ]
     },
     "execution_count": 13,
     "metadata": {},
     "output_type": "execute_result"
    }
   ],
   "source": [
    "df = reduce(lambda left, right: pd.merge(left,right, left_index=True, right_index=True,how='inner'), dfs)\n",
    "# df = pd.concat(dfs, axis=1, join='inner')\n",
    "df.sort_index(ascending=False)"
   ]
  },
  {
   "cell_type": "code",
   "execution_count": 14,
   "id": "20027aeb-f411-4265-9dca-dec7b899a550",
   "metadata": {
    "tags": []
   },
   "outputs": [
    {
     "data": {
      "text/plain": [
       "sp500                 0\n",
       "federal_funds_rate    0\n",
       "cpi                   0\n",
       "unemployment          1\n",
       "dtype: int64"
      ]
     },
     "execution_count": 14,
     "metadata": {},
     "output_type": "execute_result"
    }
   ],
   "source": [
    "df.isna().sum()"
   ]
  },
  {
   "cell_type": "code",
   "execution_count": 15,
   "id": "555cca4c-f969-4c71-b08a-3befb8891488",
   "metadata": {
    "tags": []
   },
   "outputs": [
    {
     "data": {
      "text/html": [
       "<div>\n",
       "<style scoped>\n",
       "    .dataframe tbody tr th:only-of-type {\n",
       "        vertical-align: middle;\n",
       "    }\n",
       "\n",
       "    .dataframe tbody tr th {\n",
       "        vertical-align: top;\n",
       "    }\n",
       "\n",
       "    .dataframe thead th {\n",
       "        text-align: right;\n",
       "    }\n",
       "</style>\n",
       "<table border=\"1\" class=\"dataframe\">\n",
       "  <thead>\n",
       "    <tr style=\"text-align: right;\">\n",
       "      <th></th>\n",
       "      <th>sp500</th>\n",
       "      <th>federal_funds_rate</th>\n",
       "      <th>cpi</th>\n",
       "      <th>unemployment</th>\n",
       "    </tr>\n",
       "  </thead>\n",
       "  <tbody>\n",
       "    <tr>\n",
       "      <th>2024-10-01</th>\n",
       "      <td>5792.32</td>\n",
       "      <td>4.83</td>\n",
       "      <td>315.45</td>\n",
       "      <td>NaN</td>\n",
       "    </tr>\n",
       "  </tbody>\n",
       "</table>\n",
       "</div>"
      ],
      "text/plain": [
       "             sp500  federal_funds_rate    cpi  unemployment\n",
       "2024-10-01 5792.32                4.83 315.45           NaN"
      ]
     },
     "execution_count": 15,
     "metadata": {},
     "output_type": "execute_result"
    }
   ],
   "source": [
    "df.loc[df['unemployment'].isna()]"
   ]
  },
  {
   "cell_type": "code",
   "execution_count": 16,
   "id": "f65323c1-18c4-4028-94ea-e23acb459a4a",
   "metadata": {
    "tags": []
   },
   "outputs": [
    {
     "data": {
      "text/html": [
       "<div>\n",
       "<style scoped>\n",
       "    .dataframe tbody tr th:only-of-type {\n",
       "        vertical-align: middle;\n",
       "    }\n",
       "\n",
       "    .dataframe tbody tr th {\n",
       "        vertical-align: top;\n",
       "    }\n",
       "\n",
       "    .dataframe thead th {\n",
       "        text-align: right;\n",
       "    }\n",
       "</style>\n",
       "<table border=\"1\" class=\"dataframe\">\n",
       "  <thead>\n",
       "    <tr style=\"text-align: right;\">\n",
       "      <th></th>\n",
       "      <th>sp500</th>\n",
       "      <th>federal_funds_rate</th>\n",
       "      <th>cpi</th>\n",
       "      <th>unemployment</th>\n",
       "    </tr>\n",
       "  </thead>\n",
       "  <tbody>\n",
       "    <tr>\n",
       "      <th>2023-10-01</th>\n",
       "      <td>4269.40</td>\n",
       "      <td>5.33</td>\n",
       "      <td>307.53</td>\n",
       "      <td>3.70</td>\n",
       "    </tr>\n",
       "    <tr>\n",
       "      <th>2024-01-01</th>\n",
       "      <td>4804.49</td>\n",
       "      <td>5.33</td>\n",
       "      <td>309.69</td>\n",
       "      <td>3.80</td>\n",
       "    </tr>\n",
       "    <tr>\n",
       "      <th>2024-04-01</th>\n",
       "      <td>5112.49</td>\n",
       "      <td>5.33</td>\n",
       "      <td>313.21</td>\n",
       "      <td>4.00</td>\n",
       "    </tr>\n",
       "    <tr>\n",
       "      <th>2024-07-01</th>\n",
       "      <td>5538.00</td>\n",
       "      <td>5.33</td>\n",
       "      <td>313.53</td>\n",
       "      <td>4.20</td>\n",
       "    </tr>\n",
       "    <tr>\n",
       "      <th>2024-10-01</th>\n",
       "      <td>5792.32</td>\n",
       "      <td>4.83</td>\n",
       "      <td>315.45</td>\n",
       "      <td>NaN</td>\n",
       "    </tr>\n",
       "  </tbody>\n",
       "</table>\n",
       "</div>"
      ],
      "text/plain": [
       "             sp500  federal_funds_rate    cpi  unemployment\n",
       "2023-10-01 4269.40                5.33 307.53          3.70\n",
       "2024-01-01 4804.49                5.33 309.69          3.80\n",
       "2024-04-01 5112.49                5.33 313.21          4.00\n",
       "2024-07-01 5538.00                5.33 313.53          4.20\n",
       "2024-10-01 5792.32                4.83 315.45           NaN"
      ]
     },
     "execution_count": 16,
     "metadata": {},
     "output_type": "execute_result"
    }
   ],
   "source": [
    "df.tail(5)"
   ]
  },
  {
   "cell_type": "code",
   "execution_count": 17,
   "id": "87accda7-10d4-4d14-8a99-2a4bdaa62c3b",
   "metadata": {
    "tags": []
   },
   "outputs": [],
   "source": [
    "df.dropna(inplace=True)"
   ]
  },
  {
   "cell_type": "code",
   "execution_count": 18,
   "id": "638b6d8d-7881-43f9-bf54-8795440a585b",
   "metadata": {
    "tags": []
   },
   "outputs": [
    {
     "data": {
      "text/html": [
       "<div>\n",
       "<style scoped>\n",
       "    .dataframe tbody tr th:only-of-type {\n",
       "        vertical-align: middle;\n",
       "    }\n",
       "\n",
       "    .dataframe tbody tr th {\n",
       "        vertical-align: top;\n",
       "    }\n",
       "\n",
       "    .dataframe thead th {\n",
       "        text-align: right;\n",
       "    }\n",
       "</style>\n",
       "<table border=\"1\" class=\"dataframe\">\n",
       "  <thead>\n",
       "    <tr style=\"text-align: right;\">\n",
       "      <th></th>\n",
       "      <th>sp500</th>\n",
       "      <th>federal_funds_rate</th>\n",
       "      <th>cpi</th>\n",
       "      <th>unemployment</th>\n",
       "    </tr>\n",
       "  </thead>\n",
       "  <tbody>\n",
       "    <tr>\n",
       "      <th>2023-07-01</th>\n",
       "      <td>4508.08</td>\n",
       "      <td>5.12</td>\n",
       "      <td>304.63</td>\n",
       "      <td>3.70</td>\n",
       "    </tr>\n",
       "    <tr>\n",
       "      <th>2023-10-01</th>\n",
       "      <td>4269.40</td>\n",
       "      <td>5.33</td>\n",
       "      <td>307.53</td>\n",
       "      <td>3.70</td>\n",
       "    </tr>\n",
       "    <tr>\n",
       "      <th>2024-01-01</th>\n",
       "      <td>4804.49</td>\n",
       "      <td>5.33</td>\n",
       "      <td>309.69</td>\n",
       "      <td>3.80</td>\n",
       "    </tr>\n",
       "    <tr>\n",
       "      <th>2024-04-01</th>\n",
       "      <td>5112.49</td>\n",
       "      <td>5.33</td>\n",
       "      <td>313.21</td>\n",
       "      <td>4.00</td>\n",
       "    </tr>\n",
       "    <tr>\n",
       "      <th>2024-07-01</th>\n",
       "      <td>5538.00</td>\n",
       "      <td>5.33</td>\n",
       "      <td>313.53</td>\n",
       "      <td>4.20</td>\n",
       "    </tr>\n",
       "  </tbody>\n",
       "</table>\n",
       "</div>"
      ],
      "text/plain": [
       "             sp500  federal_funds_rate    cpi  unemployment\n",
       "2023-07-01 4508.08                5.12 304.63          3.70\n",
       "2023-10-01 4269.40                5.33 307.53          3.70\n",
       "2024-01-01 4804.49                5.33 309.69          3.80\n",
       "2024-04-01 5112.49                5.33 313.21          4.00\n",
       "2024-07-01 5538.00                5.33 313.53          4.20"
      ]
     },
     "execution_count": 18,
     "metadata": {},
     "output_type": "execute_result"
    }
   ],
   "source": [
    "df.tail(5)"
   ]
  },
  {
   "cell_type": "code",
   "execution_count": 19,
   "id": "3062bc38-dd4e-4da8-b706-c8b611d6b65c",
   "metadata": {},
   "outputs": [
    {
     "data": {
      "text/plain": [
       "sp500                0.00\n",
       "federal_funds_rate   0.00\n",
       "cpi                  0.00\n",
       "unemployment         0.00\n",
       "dtype: float64"
      ]
     },
     "execution_count": 19,
     "metadata": {},
     "output_type": "execute_result"
    }
   ],
   "source": [
    "df[df.duplicated()].sum()"
   ]
  },
  {
   "cell_type": "code",
   "execution_count": 20,
   "id": "1d0f40ad-92c9-4494-8127-5bdceb774500",
   "metadata": {
    "tags": []
   },
   "outputs": [
    {
     "data": {
      "text/plain": [
       "DatetimeIndex(['2015-01-01', '2015-04-01', '2015-07-01', '2015-10-01',\n",
       "               '2016-01-01', '2016-04-01', '2016-07-01', '2016-10-01',\n",
       "               '2017-01-01', '2017-04-01', '2017-07-01', '2017-10-01',\n",
       "               '2018-01-01', '2018-04-01', '2018-07-01', '2018-10-01',\n",
       "               '2019-01-01', '2019-04-01', '2019-07-01', '2019-10-01',\n",
       "               '2020-01-01', '2020-04-01', '2020-07-01', '2020-10-01',\n",
       "               '2021-01-01', '2021-04-01', '2021-07-01', '2021-10-01',\n",
       "               '2022-01-01', '2022-04-01', '2022-07-01', '2022-10-01',\n",
       "               '2023-01-01', '2023-04-01', '2023-07-01', '2023-10-01',\n",
       "               '2024-01-01', '2024-04-01', '2024-07-01'],\n",
       "              dtype='datetime64[ns]', freq=None)"
      ]
     },
     "execution_count": 20,
     "metadata": {},
     "output_type": "execute_result"
    }
   ],
   "source": [
    "df.index.unique()"
   ]
  },
  {
   "cell_type": "markdown",
   "id": "f965c100-0fbd-42ce-90d2-bdfcee34c1e7",
   "metadata": {},
   "source": [
    "![green-divider](https://user-images.githubusercontent.com/7065401/52071924-c003ad80-2562-11e9-8297-1c6595f8a7ff.png)"
   ]
  },
  {
   "cell_type": "markdown",
   "id": "0fdbd14a-a39e-48cb-a158-0fb8c8735a04",
   "metadata": {},
   "source": [
    "### __Step 3: Trends__"
   ]
  },
  {
   "cell_type": "code",
   "execution_count": 21,
   "id": "34707169-dd4d-4653-8140-4524294f7328",
   "metadata": {
    "tags": []
   },
   "outputs": [
    {
     "name": "stdout",
     "output_type": "stream",
     "text": [
      "<class 'pandas.core.frame.DataFrame'>\n",
      "DatetimeIndex: 39 entries, 2015-01-01 to 2024-07-01\n",
      "Data columns (total 4 columns):\n",
      " #   Column              Non-Null Count  Dtype  \n",
      "---  ------              --------------  -----  \n",
      " 0   sp500               39 non-null     float64\n",
      " 1   federal_funds_rate  39 non-null     float64\n",
      " 2   cpi                 39 non-null     float64\n",
      " 3   unemployment        39 non-null     float64\n",
      "dtypes: float64(4)\n",
      "memory usage: 2.6 KB\n"
     ]
    }
   ],
   "source": [
    "df.info()"
   ]
  },
  {
   "cell_type": "code",
   "execution_count": 22,
   "id": "59c21a90-29d7-42b8-9524-b4a91af29e7d",
   "metadata": {
    "tags": []
   },
   "outputs": [
    {
     "data": {
      "text/html": [
       "<div>\n",
       "<style scoped>\n",
       "    .dataframe tbody tr th:only-of-type {\n",
       "        vertical-align: middle;\n",
       "    }\n",
       "\n",
       "    .dataframe tbody tr th {\n",
       "        vertical-align: top;\n",
       "    }\n",
       "\n",
       "    .dataframe thead th {\n",
       "        text-align: right;\n",
       "    }\n",
       "</style>\n",
       "<table border=\"1\" class=\"dataframe\">\n",
       "  <thead>\n",
       "    <tr style=\"text-align: right;\">\n",
       "      <th></th>\n",
       "      <th>sp500</th>\n",
       "      <th>federal_funds_rate</th>\n",
       "      <th>cpi</th>\n",
       "      <th>unemployment</th>\n",
       "    </tr>\n",
       "  </thead>\n",
       "  <tbody>\n",
       "    <tr>\n",
       "      <th>count</th>\n",
       "      <td>39.00</td>\n",
       "      <td>39.00</td>\n",
       "      <td>39.00</td>\n",
       "      <td>39.00</td>\n",
       "    </tr>\n",
       "    <tr>\n",
       "      <th>mean</th>\n",
       "      <td>3257.04</td>\n",
       "      <td>1.67</td>\n",
       "      <td>265.00</td>\n",
       "      <td>4.69</td>\n",
       "    </tr>\n",
       "    <tr>\n",
       "      <th>std</th>\n",
       "      <td>1007.39</td>\n",
       "      <td>1.83</td>\n",
       "      <td>25.46</td>\n",
       "      <td>1.74</td>\n",
       "    </tr>\n",
       "    <tr>\n",
       "      <th>min</th>\n",
       "      <td>1918.60</td>\n",
       "      <td>0.05</td>\n",
       "      <td>234.75</td>\n",
       "      <td>3.50</td>\n",
       "    </tr>\n",
       "    <tr>\n",
       "      <th>25%</th>\n",
       "      <td>2406.70</td>\n",
       "      <td>0.12</td>\n",
       "      <td>244.22</td>\n",
       "      <td>3.75</td>\n",
       "    </tr>\n",
       "    <tr>\n",
       "      <th>50%</th>\n",
       "      <td>2977.68</td>\n",
       "      <td>1.15</td>\n",
       "      <td>256.13</td>\n",
       "      <td>4.20</td>\n",
       "    </tr>\n",
       "    <tr>\n",
       "      <th>75%</th>\n",
       "      <td>4131.33</td>\n",
       "      <td>2.40</td>\n",
       "      <td>285.58</td>\n",
       "      <td>4.95</td>\n",
       "    </tr>\n",
       "    <tr>\n",
       "      <th>max</th>\n",
       "      <td>5538.00</td>\n",
       "      <td>5.33</td>\n",
       "      <td>313.53</td>\n",
       "      <td>13.00</td>\n",
       "    </tr>\n",
       "  </tbody>\n",
       "</table>\n",
       "</div>"
      ],
      "text/plain": [
       "        sp500  federal_funds_rate    cpi  unemployment\n",
       "count   39.00               39.00  39.00         39.00\n",
       "mean  3257.04                1.67 265.00          4.69\n",
       "std   1007.39                1.83  25.46          1.74\n",
       "min   1918.60                0.05 234.75          3.50\n",
       "25%   2406.70                0.12 244.22          3.75\n",
       "50%   2977.68                1.15 256.13          4.20\n",
       "75%   4131.33                2.40 285.58          4.95\n",
       "max   5538.00                5.33 313.53         13.00"
      ]
     },
     "execution_count": 22,
     "metadata": {},
     "output_type": "execute_result"
    }
   ],
   "source": [
    "df.describe()"
   ]
  },
  {
   "cell_type": "code",
   "execution_count": 23,
   "id": "a402a171-460d-46f9-8328-37906be13a00",
   "metadata": {
    "tags": []
   },
   "outputs": [
    {
     "name": "stderr",
     "output_type": "stream",
     "text": [
      "C:\\Users\\abdal\\AppData\\Local\\Temp\\ipykernel_12040\\2371682248.py:4: UserWarning:\n",
      "\n",
      "set_ticklabels() should only be used with a fixed number of ticks, i.e. after set_ticks() or using a FixedLocator.\n",
      "\n"
     ]
    },
    {
     "data": {
      "image/png": "[encoded data removed]",
      "text/plain": [
       "<Figure size 1400x600 with 1 Axes>"
      ]
     },
     "metadata": {},
     "output_type": "display_data"
    }
   ],
   "source": [
    "ax= df['sp500'].plot(kind='line',figsize=(14,6),title='S&P500')\n",
    "ax.set_xlabel(\"Year\")\n",
    "ax.set_ylabel(\"Price\")\n",
    "ax.set_yticklabels(['{:,.0f}'.format(i) for i in plt.yticks()[0]])\n",
    "plt.show()"
   ]
  },
  {
   "cell_type": "code",
   "execution_count": 24,
   "id": "2a8b2448-dc52-4b1d-83c5-120b9347c7f6",
   "metadata": {
    "tags": []
   },
   "outputs": [
    {
     "data": {
      "text/plain": [
       "Index(['sp500', 'federal_funds_rate', 'cpi', 'unemployment'], dtype='object')"
      ]
     },
     "execution_count": 24,
     "metadata": {},
     "output_type": "execute_result"
    }
   ],
   "source": [
    "df.columns"
   ]
  },
  {
   "cell_type": "code",
   "execution_count": 25,
   "id": "e1c8ebd2-8e69-4127-af65-b2ae89ec43e3",
   "metadata": {
    "tags": []
   },
   "outputs": [
    {
     "data": {
      "image/png": "[encoded data removed]",
      "text/plain": [
       "<Figure size 1400x800 with 4 Axes>"
      ]
     },
     "metadata": {},
     "output_type": "display_data"
    }
   ],
   "source": [
    "fig, ax = plt.subplots(2,2,figsize=(14,8))\n",
    "\n",
    "ax[0,0].plot(df['sp500'])\n",
    "ax[0,0].set_title('S&P500')\n",
    "ax[0,1].plot(df['federal_funds_rate'])\n",
    "ax[0,1].set_title('Federal Funds Rate')\n",
    "ax[1,0].plot(df['cpi'])\n",
    "ax[1,0].set_title('CPI (Inflation)')\n",
    "ax[1,1].plot(df['unemployment'])\n",
    "ax[1,1].set_title('Unemployment')\n",
    "\n",
    "plt.tight_layout()\n",
    "plt.show()"
   ]
  },
  {
   "cell_type": "code",
   "execution_count": 26,
   "id": "68edfc25-e221-4e0e-bd3e-45b7a24315cd",
   "metadata": {
    "tags": []
   },
   "outputs": [
    {
     "data": {
      "text/html": [
       "<div>\n",
       "<style scoped>\n",
       "    .dataframe tbody tr th:only-of-type {\n",
       "        vertical-align: middle;\n",
       "    }\n",
       "\n",
       "    .dataframe tbody tr th {\n",
       "        vertical-align: top;\n",
       "    }\n",
       "\n",
       "    .dataframe thead th {\n",
       "        text-align: right;\n",
       "    }\n",
       "</style>\n",
       "<table border=\"1\" class=\"dataframe\">\n",
       "  <thead>\n",
       "    <tr style=\"text-align: right;\">\n",
       "      <th></th>\n",
       "      <th>sp500</th>\n",
       "      <th>federal_funds_rate</th>\n",
       "      <th>cpi</th>\n",
       "      <th>unemployment</th>\n",
       "    </tr>\n",
       "  </thead>\n",
       "  <tbody>\n",
       "    <tr>\n",
       "      <th>sp500</th>\n",
       "      <td>1.00</td>\n",
       "      <td>0.57</td>\n",
       "      <td>0.92</td>\n",
       "      <td>-0.20</td>\n",
       "    </tr>\n",
       "    <tr>\n",
       "      <th>federal_funds_rate</th>\n",
       "      <td>0.57</td>\n",
       "      <td>1.00</td>\n",
       "      <td>0.76</td>\n",
       "      <td>-0.44</td>\n",
       "    </tr>\n",
       "    <tr>\n",
       "      <th>cpi</th>\n",
       "      <td>0.92</td>\n",
       "      <td>0.76</td>\n",
       "      <td>1.00</td>\n",
       "      <td>-0.27</td>\n",
       "    </tr>\n",
       "    <tr>\n",
       "      <th>unemployment</th>\n",
       "      <td>-0.20</td>\n",
       "      <td>-0.44</td>\n",
       "      <td>-0.27</td>\n",
       "      <td>1.00</td>\n",
       "    </tr>\n",
       "  </tbody>\n",
       "</table>\n",
       "</div>"
      ],
      "text/plain": [
       "                    sp500  federal_funds_rate   cpi  unemployment\n",
       "sp500                1.00                0.57  0.92         -0.20\n",
       "federal_funds_rate   0.57                1.00  0.76         -0.44\n",
       "cpi                  0.92                0.76  1.00         -0.27\n",
       "unemployment        -0.20               -0.44 -0.27          1.00"
      ]
     },
     "execution_count": 26,
     "metadata": {},
     "output_type": "execute_result"
    }
   ],
   "source": [
    "corr = df.corr()\n",
    "corr"
   ]
  },
  {
   "cell_type": "code",
   "execution_count": 27,
   "id": "abe1875b-c1eb-459c-8fd4-6fa9391f28bd",
   "metadata": {
    "tags": []
   },
   "outputs": [
    {
     "data": {
      "image/png": "[encoded data removed]",
      "text/plain": [
       "<Figure size 1400x600 with 1 Axes>"
      ]
     },
     "metadata": {},
     "output_type": "display_data"
    }
   ],
   "source": [
    "plt.style.use('dark_background')\n",
    "fig = plt.figure(figsize=(14,6))\n",
    "plt.matshow(corr, cmap='RdBu',fignum=fig.number)\n",
    "plt.xticks(range(len(corr.columns)),corr.columns,rotation='vertical')\n",
    "plt.yticks(range(len(corr.columns)),corr.columns)\n",
    "plt.show()"
   ]
  },
  {
   "cell_type": "code",
   "execution_count": 28,
   "id": "d9debd49-da95-4dd6-a8dd-ae546f2f4b7d",
   "metadata": {
    "tags": []
   },
   "outputs": [
    {
     "data": {
      "text/plain": [
       "<Axes: >"
      ]
     },
     "execution_count": 28,
     "metadata": {},
     "output_type": "execute_result"
    },
    {
     "data": {
      "image/png": "[encoded data removed]",
      "text/plain": [
       "<Figure size 640x480 with 2 Axes>"
      ]
     },
     "metadata": {},
     "output_type": "display_data"
    }
   ],
   "source": [
    "sns.heatmap(data=corr,annot=True,cmap='coolwarm')"
   ]
  },
  {
   "cell_type": "code",
   "execution_count": 29,
   "id": "cf79ce9a-526c-432f-a61b-39b55b904ad7",
   "metadata": {
    "tags": []
   },
   "outputs": [
    {
     "data": {
      "image/png": "[encoded data removed]",
      "text/plain": [
       "<Figure size 1200x1000 with 2 Axes>"
      ]
     },
     "metadata": {},
     "output_type": "display_data"
    }
   ],
   "source": [
    "fig, ax1 = plt.subplots(figsize=(12, 10))\n",
    "\n",
    "ax1.plot(df.index, df['federal_funds_rate'], label='Federal Funds Rate', color='blue', alpha=0.7)\n",
    "ax1.set_ylabel('Federal Funds Rate', fontsize=12, color='blue')\n",
    "ax1.tick_params(axis='y', labelcolor='blue')\n",
    "ax1.grid(True, which='both', linestyle='--', linewidth=0.5, alpha=0.7)\n",
    "\n",
    "ax2 = ax1.twinx()\n",
    "ax2.plot(df.index, df['sp500'], label='S&P 500', color='green', alpha=0.7)\n",
    "ax2.set_ylabel('S&P 500', fontsize=12, color='green')\n",
    "ax2.tick_params(axis='y', labelcolor='green')\n",
    "\n",
    "plt.title('Federal Funds Rate vs. S&P 500 Performance', fontsize=16)\n",
    "ax1.set_xlabel('Year', fontsize=12)\n",
    "\n",
    "fig.tight_layout()  \n",
    "plt.show()\n"
   ]
  },
  {
   "cell_type": "markdown",
   "id": "ae488a09-dade-4457-9ccc-561fba9d713f",
   "metadata": {},
   "source": [
    "![green-divider](https://user-images.githubusercontent.com/7065401/52071924-c003ad80-2562-11e9-8297-1c6595f8a7ff.png)"
   ]
  },
  {
   "cell_type": "markdown",
   "id": "9605eea3-cb51-4384-a44b-354b3604fcd1",
   "metadata": {},
   "source": [
    "### __Step 4: Statistics__\n",
    "#### To investigate whether inflation mediates the relationship between the federal funds rate (IV) and the S&P 500 (DV)."
   ]
  },
  {
   "cell_type": "code",
   "execution_count": 30,
   "id": "96219b08-0809-44d1-8031-caaa23534fdc",
   "metadata": {
    "tags": []
   },
   "outputs": [
    {
     "data": {
      "text/html": [
       "<div>\n",
       "<style scoped>\n",
       "    .dataframe tbody tr th:only-of-type {\n",
       "        vertical-align: middle;\n",
       "    }\n",
       "\n",
       "    .dataframe tbody tr th {\n",
       "        vertical-align: top;\n",
       "    }\n",
       "\n",
       "    .dataframe thead th {\n",
       "        text-align: right;\n",
       "    }\n",
       "</style>\n",
       "<table border=\"1\" class=\"dataframe\">\n",
       "  <thead>\n",
       "    <tr style=\"text-align: right;\">\n",
       "      <th></th>\n",
       "      <th>sp500</th>\n",
       "      <th>federal_funds_rate</th>\n",
       "      <th>cpi</th>\n",
       "      <th>unemployment</th>\n",
       "    </tr>\n",
       "  </thead>\n",
       "  <tbody>\n",
       "    <tr>\n",
       "      <th>2015-01-01</th>\n",
       "      <td>2028.18</td>\n",
       "      <td>0.11</td>\n",
       "      <td>234.75</td>\n",
       "      <td>5.50</td>\n",
       "    </tr>\n",
       "    <tr>\n",
       "      <th>2015-04-01</th>\n",
       "      <td>2094.86</td>\n",
       "      <td>0.12</td>\n",
       "      <td>236.22</td>\n",
       "      <td>5.40</td>\n",
       "    </tr>\n",
       "    <tr>\n",
       "      <th>2015-07-01</th>\n",
       "      <td>2094.14</td>\n",
       "      <td>0.13</td>\n",
       "      <td>238.03</td>\n",
       "      <td>5.10</td>\n",
       "    </tr>\n",
       "    <tr>\n",
       "      <th>2015-10-01</th>\n",
       "      <td>2024.81</td>\n",
       "      <td>0.12</td>\n",
       "      <td>237.73</td>\n",
       "      <td>5.00</td>\n",
       "    </tr>\n",
       "    <tr>\n",
       "      <th>2016-01-01</th>\n",
       "      <td>1918.60</td>\n",
       "      <td>0.34</td>\n",
       "      <td>237.65</td>\n",
       "      <td>4.90</td>\n",
       "    </tr>\n",
       "    <tr>\n",
       "      <th>2016-04-01</th>\n",
       "      <td>2075.54</td>\n",
       "      <td>0.37</td>\n",
       "      <td>238.99</td>\n",
       "      <td>4.90</td>\n",
       "    </tr>\n",
       "    <tr>\n",
       "      <th>2016-07-01</th>\n",
       "      <td>2148.90</td>\n",
       "      <td>0.39</td>\n",
       "      <td>240.10</td>\n",
       "      <td>4.90</td>\n",
       "    </tr>\n",
       "    <tr>\n",
       "      <th>2016-10-01</th>\n",
       "      <td>2143.02</td>\n",
       "      <td>0.40</td>\n",
       "      <td>241.74</td>\n",
       "      <td>4.80</td>\n",
       "    </tr>\n",
       "    <tr>\n",
       "      <th>2017-01-01</th>\n",
       "      <td>2275.12</td>\n",
       "      <td>0.65</td>\n",
       "      <td>243.62</td>\n",
       "      <td>4.60</td>\n",
       "    </tr>\n",
       "    <tr>\n",
       "      <th>2017-04-01</th>\n",
       "      <td>2359.31</td>\n",
       "      <td>0.90</td>\n",
       "      <td>244.19</td>\n",
       "      <td>4.40</td>\n",
       "    </tr>\n",
       "    <tr>\n",
       "      <th>2017-07-01</th>\n",
       "      <td>2454.10</td>\n",
       "      <td>1.15</td>\n",
       "      <td>244.24</td>\n",
       "      <td>4.30</td>\n",
       "    </tr>\n",
       "    <tr>\n",
       "      <th>2017-10-01</th>\n",
       "      <td>2557.00</td>\n",
       "      <td>1.15</td>\n",
       "      <td>246.63</td>\n",
       "      <td>4.20</td>\n",
       "    </tr>\n",
       "    <tr>\n",
       "      <th>2018-01-01</th>\n",
       "      <td>2789.80</td>\n",
       "      <td>1.41</td>\n",
       "      <td>248.86</td>\n",
       "      <td>4.00</td>\n",
       "    </tr>\n",
       "    <tr>\n",
       "      <th>2018-04-01</th>\n",
       "      <td>2653.63</td>\n",
       "      <td>1.69</td>\n",
       "      <td>250.23</td>\n",
       "      <td>3.90</td>\n",
       "    </tr>\n",
       "    <tr>\n",
       "      <th>2018-07-01</th>\n",
       "      <td>2793.64</td>\n",
       "      <td>1.91</td>\n",
       "      <td>251.21</td>\n",
       "      <td>3.80</td>\n",
       "    </tr>\n",
       "    <tr>\n",
       "      <th>2018-10-01</th>\n",
       "      <td>2785.46</td>\n",
       "      <td>2.19</td>\n",
       "      <td>252.77</td>\n",
       "      <td>3.80</td>\n",
       "    </tr>\n",
       "    <tr>\n",
       "      <th>2019-01-01</th>\n",
       "      <td>2607.39</td>\n",
       "      <td>2.40</td>\n",
       "      <td>252.56</td>\n",
       "      <td>3.90</td>\n",
       "    </tr>\n",
       "    <tr>\n",
       "      <th>2019-04-01</th>\n",
       "      <td>2903.80</td>\n",
       "      <td>2.42</td>\n",
       "      <td>255.23</td>\n",
       "      <td>3.60</td>\n",
       "    </tr>\n",
       "    <tr>\n",
       "      <th>2019-07-01</th>\n",
       "      <td>2996.11</td>\n",
       "      <td>2.40</td>\n",
       "      <td>255.80</td>\n",
       "      <td>3.60</td>\n",
       "    </tr>\n",
       "    <tr>\n",
       "      <th>2019-10-01</th>\n",
       "      <td>2977.68</td>\n",
       "      <td>1.83</td>\n",
       "      <td>257.15</td>\n",
       "      <td>3.60</td>\n",
       "    </tr>\n",
       "    <tr>\n",
       "      <th>2020-01-01</th>\n",
       "      <td>3278.20</td>\n",
       "      <td>1.55</td>\n",
       "      <td>258.91</td>\n",
       "      <td>3.80</td>\n",
       "    </tr>\n",
       "    <tr>\n",
       "      <th>2020-04-01</th>\n",
       "      <td>2761.98</td>\n",
       "      <td>0.05</td>\n",
       "      <td>256.13</td>\n",
       "      <td>13.00</td>\n",
       "    </tr>\n",
       "    <tr>\n",
       "      <th>2020-07-01</th>\n",
       "      <td>3207.62</td>\n",
       "      <td>0.09</td>\n",
       "      <td>258.41</td>\n",
       "      <td>8.80</td>\n",
       "    </tr>\n",
       "    <tr>\n",
       "      <th>2020-10-01</th>\n",
       "      <td>3418.70</td>\n",
       "      <td>0.09</td>\n",
       "      <td>260.25</td>\n",
       "      <td>6.70</td>\n",
       "    </tr>\n",
       "    <tr>\n",
       "      <th>2021-01-01</th>\n",
       "      <td>3793.75</td>\n",
       "      <td>0.09</td>\n",
       "      <td>262.52</td>\n",
       "      <td>6.20</td>\n",
       "    </tr>\n",
       "    <tr>\n",
       "      <th>2021-04-01</th>\n",
       "      <td>4141.18</td>\n",
       "      <td>0.07</td>\n",
       "      <td>266.75</td>\n",
       "      <td>5.90</td>\n",
       "    </tr>\n",
       "    <tr>\n",
       "      <th>2021-07-01</th>\n",
       "      <td>4363.71</td>\n",
       "      <td>0.10</td>\n",
       "      <td>271.99</td>\n",
       "      <td>5.10</td>\n",
       "    </tr>\n",
       "    <tr>\n",
       "      <th>2021-10-01</th>\n",
       "      <td>4460.71</td>\n",
       "      <td>0.08</td>\n",
       "      <td>276.43</td>\n",
       "      <td>4.20</td>\n",
       "    </tr>\n",
       "    <tr>\n",
       "      <th>2022-01-01</th>\n",
       "      <td>4573.82</td>\n",
       "      <td>0.08</td>\n",
       "      <td>282.39</td>\n",
       "      <td>3.80</td>\n",
       "    </tr>\n",
       "    <tr>\n",
       "      <th>2022-04-01</th>\n",
       "      <td>4391.30</td>\n",
       "      <td>0.33</td>\n",
       "      <td>288.76</td>\n",
       "      <td>3.60</td>\n",
       "    </tr>\n",
       "    <tr>\n",
       "      <th>2022-07-01</th>\n",
       "      <td>3911.73</td>\n",
       "      <td>1.68</td>\n",
       "      <td>294.98</td>\n",
       "      <td>3.50</td>\n",
       "    </tr>\n",
       "    <tr>\n",
       "      <th>2022-10-01</th>\n",
       "      <td>3726.05</td>\n",
       "      <td>3.08</td>\n",
       "      <td>297.86</td>\n",
       "      <td>3.60</td>\n",
       "    </tr>\n",
       "    <tr>\n",
       "      <th>2023-01-01</th>\n",
       "      <td>3960.66</td>\n",
       "      <td>4.33</td>\n",
       "      <td>300.36</td>\n",
       "      <td>3.50</td>\n",
       "    </tr>\n",
       "    <tr>\n",
       "      <th>2023-04-01</th>\n",
       "      <td>4121.47</td>\n",
       "      <td>4.83</td>\n",
       "      <td>303.03</td>\n",
       "      <td>3.60</td>\n",
       "    </tr>\n",
       "    <tr>\n",
       "      <th>2023-07-01</th>\n",
       "      <td>4508.08</td>\n",
       "      <td>5.12</td>\n",
       "      <td>304.63</td>\n",
       "      <td>3.70</td>\n",
       "    </tr>\n",
       "    <tr>\n",
       "      <th>2023-10-01</th>\n",
       "      <td>4269.40</td>\n",
       "      <td>5.33</td>\n",
       "      <td>307.53</td>\n",
       "      <td>3.70</td>\n",
       "    </tr>\n",
       "    <tr>\n",
       "      <th>2024-01-01</th>\n",
       "      <td>4804.49</td>\n",
       "      <td>5.33</td>\n",
       "      <td>309.69</td>\n",
       "      <td>3.80</td>\n",
       "    </tr>\n",
       "    <tr>\n",
       "      <th>2024-04-01</th>\n",
       "      <td>5112.49</td>\n",
       "      <td>5.33</td>\n",
       "      <td>313.21</td>\n",
       "      <td>4.00</td>\n",
       "    </tr>\n",
       "    <tr>\n",
       "      <th>2024-07-01</th>\n",
       "      <td>5538.00</td>\n",
       "      <td>5.33</td>\n",
       "      <td>313.53</td>\n",
       "      <td>4.20</td>\n",
       "    </tr>\n",
       "  </tbody>\n",
       "</table>\n",
       "</div>"
      ],
      "text/plain": [
       "             sp500  federal_funds_rate    cpi  unemployment\n",
       "2015-01-01 2028.18                0.11 234.75          5.50\n",
       "2015-04-01 2094.86                0.12 236.22          5.40\n",
       "2015-07-01 2094.14                0.13 238.03          5.10\n",
       "2015-10-01 2024.81                0.12 237.73          5.00\n",
       "2016-01-01 1918.60                0.34 237.65          4.90\n",
       "2016-04-01 2075.54                0.37 238.99          4.90\n",
       "2016-07-01 2148.90                0.39 240.10          4.90\n",
       "2016-10-01 2143.02                0.40 241.74          4.80\n",
       "2017-01-01 2275.12                0.65 243.62          4.60\n",
       "2017-04-01 2359.31                0.90 244.19          4.40\n",
       "2017-07-01 2454.10                1.15 244.24          4.30\n",
       "2017-10-01 2557.00                1.15 246.63          4.20\n",
       "2018-01-01 2789.80                1.41 248.86          4.00\n",
       "2018-04-01 2653.63                1.69 250.23          3.90\n",
       "2018-07-01 2793.64                1.91 251.21          3.80\n",
       "2018-10-01 2785.46                2.19 252.77          3.80\n",
       "2019-01-01 2607.39                2.40 252.56          3.90\n",
       "2019-04-01 2903.80                2.42 255.23          3.60\n",
       "2019-07-01 2996.11                2.40 255.80          3.60\n",
       "2019-10-01 2977.68                1.83 257.15          3.60\n",
       "2020-01-01 3278.20                1.55 258.91          3.80\n",
       "2020-04-01 2761.98                0.05 256.13         13.00\n",
       "2020-07-01 3207.62                0.09 258.41          8.80\n",
       "2020-10-01 3418.70                0.09 260.25          6.70\n",
       "2021-01-01 3793.75                0.09 262.52          6.20\n",
       "2021-04-01 4141.18                0.07 266.75          5.90\n",
       "2021-07-01 4363.71                0.10 271.99          5.10\n",
       "2021-10-01 4460.71                0.08 276.43          4.20\n",
       "2022-01-01 4573.82                0.08 282.39          3.80\n",
       "2022-04-01 4391.30                0.33 288.76          3.60\n",
       "2022-07-01 3911.73                1.68 294.98          3.50\n",
       "2022-10-01 3726.05                3.08 297.86          3.60\n",
       "2023-01-01 3960.66                4.33 300.36          3.50\n",
       "2023-04-01 4121.47                4.83 303.03          3.60\n",
       "2023-07-01 4508.08                5.12 304.63          3.70\n",
       "2023-10-01 4269.40                5.33 307.53          3.70\n",
       "2024-01-01 4804.49                5.33 309.69          3.80\n",
       "2024-04-01 5112.49                5.33 313.21          4.00\n",
       "2024-07-01 5538.00                5.33 313.53          4.20"
      ]
     },
     "execution_count": 30,
     "metadata": {},
     "output_type": "execute_result"
    }
   ],
   "source": [
    "df"
   ]
  },
  {
   "cell_type": "markdown",
   "id": "6b3dbdeb-133e-40c9-b250-d2eca410374c",
   "metadata": {},
   "source": [
    "__Direct effect__: How the independent variable (Federal Funds Rate) affects the dependent variable (S&P 500) directly.  \n",
    "__Indirect effect__: How the independent variable affects the dependent variable through the mediator (Inflation)."
   ]
  },
  {
   "cell_type": "markdown",
   "id": "18a2b1b6-bdac-478c-a4ac-6b203c105821",
   "metadata": {},
   "source": [
    "__Independent Variable (IV)__: The variable I believe influences the outcome indirectly (e.g., Federal Funds Rate).  \n",
    "__Mediator (M)__: The variable through which the IV is hypothesized to affect the outcome (e.g., Inflation).  \n",
    "__Dependent Variable (DV)__: The outcome variable (e.g., S&P 500)."
   ]
  },
  {
   "cell_type": "markdown",
   "id": "26fe99bd-f8e4-45ce-995f-91c2fa749422",
   "metadata": {},
   "source": [
    ">#### Step 1: Define Hypotheses  \n",
    "H1: The Federal Funds Rate influences Inflation.  \n",
    "H2: Inflation influences the S&P 500.  \n",
    "H3: The Federal Funds Rate indirectly affects the S&P 500 through Inflation."
   ]
  },
  {
   "cell_type": "markdown",
   "id": "68fb38ac-c862-4c22-a58f-41dfda802400",
   "metadata": {},
   "source": [
    ">#### Step 2: Fit the Models  \n",
    "Path A (IV → Mediator): Regress the mediator on the independent variable to estimate how the IV influences the mediator.  \n",
    "__𝑀=𝛽0+𝛽1×𝐼𝑉+𝜖__  \n",
    "Path B (Mediator → DV): Regress the dependent variable on both the mediator and the independent variable to estimate the mediator's effect on the DV, controlling for the IV.  \n",
    "__𝐷𝑉=𝛽0+𝛽1×𝑀+𝛽2×𝐼𝑉+𝜖__  \n",
    "Total Effect (IV → DV): Regress the dependent variable on the independent variable to estimate the total effect.  \n",
    "__𝐷𝑉=𝛽0+𝛽1×𝐼𝑉+𝜖__\n"
   ]
  },
  {
   "cell_type": "markdown",
   "id": "66822410-43cb-4b79-8264-340281da6090",
   "metadata": {},
   "source": [
    "> #### Step 3: Calculate the Effects  \n",
    "__Direct Effect__: The effect of the IV on the DV after accounting for the mediator (𝛽2 in Path B).  \n",
    "__Indirect Effect__: The effect of the IV on the DV through the mediator. This is calculated as:  \n",
    "Indirect Effect = (𝛽1 from Path A) × (𝛽1 from Path B)  \n",
    "__Total Effect__: The sum of the direct and indirect effects.  "
   ]
  },
  {
   "cell_type": "markdown",
   "id": "0c7fe350-d60e-4900-932a-6911d22de1f1",
   "metadata": {},
   "source": [
    "> #### Step 4: Test the Significance of the Indirect Effect  \n",
    "Use a statistical test to determine whether the indirect effect is significant:  \n",
    "__Sobel Test__: Tests the significance of the indirect effect using the standard errors of Path A and Path B.  \n",
    "__Bootstrapping__: Repeatedly samples the data to compute confidence intervals for the indirect effect (preferred for small sample sizes or non-normal data).  \n"
   ]
  },
  {
   "cell_type": "markdown",
   "id": "aee267cd-7969-4530-878e-f5b12d2a8253",
   "metadata": {},
   "source": [
    "> #### Step 5: Interpret Results  \n",
    "If the indirect effect is significant, the mediator explains part of the relationship between the IV and the DV.  \n",
    "Check the direct effect to determine whether the IV still has an influence on the DV after accounting for the mediator:  \n",
    "If the direct effect becomes non-significant, the mediation is full.  \n",
    "If the direct effect remains significant, the mediation is partial.  "
   ]
  },
  {
   "cell_type": "markdown",
   "id": "d7e3ad13-af61-49d3-b661-4aca43f27c91",
   "metadata": {},
   "source": [
    ">#### Step 6: Report Findings  \n",
    "Report the coefficients (𝛽) for each path.  \n",
    "Discuss the significance of the direct, indirect, and total effects.  \n",
    "Include a mediation diagram to visualize the relationships.  "
   ]
  },
  {
   "cell_type": "markdown",
   "id": "8f1504af-7363-4aee-9277-a350fea64171",
   "metadata": {},
   "source": [
    "IV: federal_funds_rate  \n",
    "Mediator (M): cpi (proxy for inflation)  \n",
    "DV: sp500"
   ]
  },
  {
   "cell_type": "code",
   "execution_count": 33,
   "id": "003cab54-1367-40f3-a968-a26632630e0e",
   "metadata": {
    "tags": []
   },
   "outputs": [],
   "source": [
    "import statsmodels.api as sm\n",
    "from statsmodels.formula.api import ols\n",
    "from statsmodels.stats.mediation import Mediation"
   ]
  },
  {
   "cell_type": "markdown",
   "id": "567b1e17-0aae-400f-ba45-d9412a6d5bb5",
   "metadata": {},
   "source": [
    "## Path A: IV → Mediator\n",
    "__This estimates how federal_funds_rate (IV) influences cpi (Mediator):__"
   ]
  },
  {
   "cell_type": "code",
   "execution_count": 73,
   "id": "e2937440-0126-4b25-9798-840146dbd1c4",
   "metadata": {
    "tags": []
   },
   "outputs": [
    {
     "name": "stdout",
     "output_type": "stream",
     "text": [
      "Path A: IV → Mediator\n",
      "                            OLS Regression Results                            \n",
      "==============================================================================\n",
      "Dep. Variable:                    cpi   R-squared:                       0.583\n",
      "Model:                            OLS   Adj. R-squared:                  0.572\n",
      "Method:                 Least Squares   F-statistic:                     51.81\n",
      "Date:                Mon, 16 Dec 2024   Prob (F-statistic):           1.55e-08\n",
      "Time:                        00:44:10   Log-Likelihood:                -164.01\n",
      "No. Observations:                  39   AIC:                             332.0\n",
      "Df Residuals:                      37   BIC:                             335.4\n",
      "Df Model:                           1                                         \n",
      "Covariance Type:            nonrobust                                         \n",
      "======================================================================================\n",
      "                         coef    std err          t      P>|t|      [0.025      0.975]\n",
      "--------------------------------------------------------------------------------------\n",
      "Intercept            247.2845      3.630     68.130      0.000     239.930     254.639\n",
      "federal_funds_rate    10.6354      1.478      7.198      0.000       7.641      13.629\n",
      "==============================================================================\n",
      "Omnibus:                        4.377   Durbin-Watson:                   0.076\n",
      "Prob(Omnibus):                  0.112   Jarque-Bera (JB):                4.010\n",
      "Skew:                           0.721   Prob(JB):                        0.135\n",
      "Kurtosis:                       2.377   Cond. No.                         3.62\n",
      "==============================================================================\n",
      "\n",
      "Notes:\n",
      "[1] Standard Errors assume that the covariance matrix of the errors is correctly specified.\n"
     ]
    }
   ],
   "source": [
    "model_a_fitted = ols(\"cpi ~ federal_funds_rate\", data=df).fit()\n",
    "print(\"Path A: IV → Mediator\")\n",
    "print(model_a_fitted.summary())"
   ]
  },
  {
   "cell_type": "markdown",
   "id": "7550302f-3111-4f3f-87dd-8ce99f88812c",
   "metadata": {},
   "source": [
    "## Path B: Mediator + IV → DV\n",
    "__This estimates how cpi (Mediator) and federal_funds_rate (IV) jointly influence sp500 (DV):__"
   ]
  },
  {
   "cell_type": "code",
   "execution_count": 74,
   "id": "9c642dc3-63b4-4e97-ada5-98b8fe4b19cb",
   "metadata": {
    "tags": []
   },
   "outputs": [
    {
     "name": "stdout",
     "output_type": "stream",
     "text": [
      "\n",
      "Path B: Mediator + IV → DV\n",
      "                            OLS Regression Results                            \n",
      "==============================================================================\n",
      "Dep. Variable:                  sp500   R-squared:                       0.896\n",
      "Model:                            OLS   Adj. R-squared:                  0.891\n",
      "Method:                 Least Squares   F-statistic:                     155.7\n",
      "Date:                Mon, 16 Dec 2024   Prob (F-statistic):           1.90e-18\n",
      "Time:                        00:44:14   Log-Likelihood:                -280.31\n",
      "No. Observations:                  39   AIC:                             566.6\n",
      "Df Residuals:                      36   BIC:                             571.6\n",
      "Df Model:                           2                                         \n",
      "Covariance Type:            nonrobust                                         \n",
      "======================================================================================\n",
      "                         coef    std err          t      P>|t|      [0.025      0.975]\n",
      "--------------------------------------------------------------------------------------\n",
      "Intercept          -8707.0086    816.347    -10.666      0.000   -1.04e+04   -7051.380\n",
      "cpi                   46.2607      3.288     14.069      0.000      39.592      52.929\n",
      "federal_funds_rate  -177.1566     45.787     -3.869      0.000    -270.016     -84.297\n",
      "==============================================================================\n",
      "Omnibus:                        0.980   Durbin-Watson:                   0.545\n",
      "Prob(Omnibus):                  0.613   Jarque-Bera (JB):                0.578\n",
      "Skew:                          -0.298   Prob(JB):                        0.749\n",
      "Kurtosis:                       3.024   Cond. No.                     4.08e+03\n",
      "==============================================================================\n",
      "\n",
      "Notes:\n",
      "[1] Standard Errors assume that the covariance matrix of the errors is correctly specified.\n",
      "[2] The condition number is large, 4.08e+03. This might indicate that there are\n",
      "strong multicollinearity or other numerical problems.\n"
     ]
    }
   ],
   "source": [
    "model_b_fitted = ols(\"sp500 ~ cpi + federal_funds_rate\", data=df).fit()\n",
    "print(\"\\nPath B: Mediator + IV → DV\")\n",
    "print(model_b_fitted.summary())"
   ]
  },
  {
   "cell_type": "markdown",
   "id": "b635b280-5eae-4c18-a756-6717eb98ecf8",
   "metadata": {},
   "source": [
    "## Total Effect: IV → DV\n",
    "__This estimates the total effect of federal_funds_rate (IV) on sp500 (DV) without accounting for the mediator:__"
   ]
  },
  {
   "cell_type": "code",
   "execution_count": 75,
   "id": "1a06c710-2a40-4c33-8520-9a2553c3e6ce",
   "metadata": {
    "tags": []
   },
   "outputs": [
    {
     "name": "stdout",
     "output_type": "stream",
     "text": [
      "\n",
      "Total Effect: IV → DV\n",
      "                            OLS Regression Results                            \n",
      "==============================================================================\n",
      "Dep. Variable:                  sp500   R-squared:                       0.327\n",
      "Model:                            OLS   Adj. R-squared:                  0.308\n",
      "Method:                 Least Squares   F-statistic:                     17.95\n",
      "Date:                Mon, 16 Dec 2024   Prob (F-statistic):           0.000144\n",
      "Time:                        00:44:17   Log-Likelihood:                -316.81\n",
      "No. Observations:                  39   AIC:                             637.6\n",
      "Df Residuals:                      37   BIC:                             640.9\n",
      "Df Model:                           1                                         \n",
      "Covariance Type:            nonrobust                                         \n",
      "======================================================================================\n",
      "                         coef    std err          t      P>|t|      [0.025      0.975]\n",
      "--------------------------------------------------------------------------------------\n",
      "Intercept           2732.5363    182.540     14.970      0.000    2362.676    3102.397\n",
      "federal_funds_rate   314.8456     74.313      4.237      0.000     164.274     465.418\n",
      "==============================================================================\n",
      "Omnibus:                        5.722   Durbin-Watson:                   0.120\n",
      "Prob(Omnibus):                  0.057   Jarque-Bera (JB):                5.572\n",
      "Skew:                           0.892   Prob(JB):                       0.0617\n",
      "Kurtosis:                       2.502   Cond. No.                         3.62\n",
      "==============================================================================\n",
      "\n",
      "Notes:\n",
      "[1] Standard Errors assume that the covariance matrix of the errors is correctly specified.\n"
     ]
    }
   ],
   "source": [
    "model_total = ols(\"sp500 ~ federal_funds_rate\", data=df).fit()\n",
    "print(\"\\nTotal Effect: IV → DV\")\n",
    "print(model_total.summary())"
   ]
  },
  {
   "cell_type": "markdown",
   "id": "a5a8546a-632c-4d11-a94f-000ea03dd9be",
   "metadata": {},
   "source": [
    "## Using the Mediation Package\n",
    "__The mediation package allows to calculate the indirect effect directly:__"
   ]
  },
  {
   "cell_type": "code",
   "execution_count": 76,
   "id": "1ce13baa-b09a-4500-afbf-0a217aeccade",
   "metadata": {
    "tags": []
   },
   "outputs": [],
   "source": [
    "model_a = ols(\"cpi ~ federal_funds_rate\", data=df)\n",
    "model_b = ols(\"sp500 ~ cpi + federal_funds_rate\", data=df)"
   ]
  },
  {
   "cell_type": "code",
   "execution_count": 77,
   "id": "485d04ad-dcfd-4720-8a78-63844a60ab20",
   "metadata": {
    "tags": []
   },
   "outputs": [],
   "source": [
    "mediation = Mediation(model_b, model_a, \"federal_funds_rate\", \"cpi\")\n",
    "mediation_results = mediation.fit(n_rep=1000)  # Bootstrapping for significance testing"
   ]
  },
  {
   "cell_type": "code",
   "execution_count": 78,
   "id": "cf853d0f-ced0-4cab-8e61-c70cb159fafb",
   "metadata": {
    "tags": []
   },
   "outputs": [
    {
     "name": "stdout",
     "output_type": "stream",
     "text": [
      "                          Estimate  Lower CI bound  Upper CI bound  P-value\n",
      "ACME (control)              480.25          115.57          855.24     0.01\n",
      "ACME (treated)              480.25          115.57          855.24     0.01\n",
      "ADE (control)              -175.89         -262.71          -89.39     0.00\n",
      "ADE (treated)              -175.89         -262.71          -89.39     0.00\n",
      "Total effect                304.36          -83.60          687.71     0.11\n",
      "Prop. mediated (control)      1.53           -2.34            5.20     0.10\n",
      "Prop. mediated (treated)      1.53           -2.34            5.20     0.10\n",
      "ACME (average)              480.25          115.57          855.24     0.01\n",
      "ADE (average)              -175.89         -262.71          -89.39     0.00\n",
      "Prop. mediated (average)      1.53           -2.34            5.20     0.10\n"
     ]
    }
   ],
   "source": [
    "print(mediation_results.summary())"
   ]
  },
  {
   "cell_type": "markdown",
   "id": "a703ab29-93a4-43fd-9824-d338bdfb8511",
   "metadata": {},
   "source": [
    "Indirect Effect: 480.25 (ACME)  \n",
    "Direct Effect: -175.89 (ADE)  \n",
    "Total Effect: 304.36 (Total effect)  \n",
    "Proportion Mediated: 1.53 (Prop. mediated)  "
   ]
  },
  {
   "cell_type": "markdown",
   "id": "04e14d8c-bdb6-453b-ac3a-38f7fc1fdecc",
   "metadata": {},
   "source": [
    "## Manual Calculation of Effects"
   ]
  },
  {
   "cell_type": "markdown",
   "id": "af3eb172-4e41-446c-acd6-6d5266ffc2ee",
   "metadata": {},
   "source": [
    "Path A Coefficient (𝛽𝐼𝑉→𝑀):"
   ]
  },
  {
   "cell_type": "code",
   "execution_count": 79,
   "id": "5c808a89-3375-4f0c-bd15-7298e12503ce",
   "metadata": {
    "tags": []
   },
   "outputs": [],
   "source": [
    "beta_a = model_a_fitted.params[\"federal_funds_rate\"]"
   ]
  },
  {
   "cell_type": "markdown",
   "id": "38e82db9-912b-4be5-a0ab-9a6218dfcf2c",
   "metadata": {},
   "source": [
    "Path B Coefficient (𝛽𝑀→𝐷𝑉):"
   ]
  },
  {
   "cell_type": "code",
   "execution_count": 80,
   "id": "ff670dfe-9d0d-4cdb-b645-e44162539109",
   "metadata": {
    "tags": []
   },
   "outputs": [],
   "source": [
    "beta_b = model_b_fitted.params[\"cpi\"]"
   ]
  },
  {
   "cell_type": "markdown",
   "id": "85bea475-eb9c-4f4d-9b74-99951b559d86",
   "metadata": {},
   "source": [
    "Direct Effect (𝛽𝐼𝑉→𝐷𝑉∣𝑀):"
   ]
  },
  {
   "cell_type": "code",
   "execution_count": 82,
   "id": "d15eefb6-dba4-48fe-98b2-4ea778f990df",
   "metadata": {
    "tags": []
   },
   "outputs": [],
   "source": [
    "direct_effect = model_b_fitted.params[\"federal_funds_rate\"]"
   ]
  },
  {
   "cell_type": "markdown",
   "id": "77929e88-6568-4166-a390-047befa1c79c",
   "metadata": {},
   "source": [
    "Indirect Effect (𝛽𝑎×𝛽𝑏):"
   ]
  },
  {
   "cell_type": "code",
   "execution_count": 84,
   "id": "33a9905b-0ed7-419d-83fb-d13a75545ac7",
   "metadata": {
    "tags": []
   },
   "outputs": [],
   "source": [
    "indirect_effect = beta_a * beta_b"
   ]
  },
  {
   "cell_type": "markdown",
   "id": "6f712918-677c-45fe-83a3-52aaf156df7a",
   "metadata": {},
   "source": [
    "Total Effect"
   ]
  },
  {
   "cell_type": "code",
   "execution_count": 89,
   "id": "8c4697ee-25c5-45d0-af88-2b9770838041",
   "metadata": {
    "tags": []
   },
   "outputs": [],
   "source": [
    "total_effect = model_total.params[\"federal_funds_rate\"]"
   ]
  },
  {
   "cell_type": "code",
   "execution_count": 90,
   "id": "6184c3bb-affe-4456-a535-5a5cdbd97dac",
   "metadata": {
    "tags": []
   },
   "outputs": [
    {
     "name": "stdout",
     "output_type": "stream",
     "text": [
      "\n",
      "Direct Effect: -177.1566\n",
      "Indirect Effect: 492.0021\n",
      "Total Effect: 314.8456\n"
     ]
    }
   ],
   "source": [
    "print(f\"\\nDirect Effect: {direct_effect:.4f}\")\n",
    "print(f\"Indirect Effect: {indirect_effect:.4f}\")\n",
    "print(f\"Total Effect: {total_effect:.4f}\")"
   ]
  },
  {
   "cell_type": "code",
   "execution_count": 92,
   "id": "fcb8dbe9-5b52-47bd-b377-288c58cb2a1e",
   "metadata": {
    "tags": []
   },
   "outputs": [
    {
     "name": "stdout",
     "output_type": "stream",
     "text": [
      "Proportion Mediated: 1.5627\n"
     ]
    }
   ],
   "source": [
    "proportion_mediated = indirect_effect / total_effect\n",
    "print(f\"Proportion Mediated: {proportion_mediated:.4f}\")"
   ]
  },
  {
   "cell_type": "markdown",
   "id": "beba039e-7fcc-4874-8ca8-2d9a825b769e",
   "metadata": {},
   "source": [
    "## Interpretation"
   ]
  },
  {
   "cell_type": "markdown",
   "id": "4d81fe08-963c-49ec-9fab-f699a97368f7",
   "metadata": {},
   "source": [
    "### Indirect Effect (ACME): 492.0021\n",
    "\n",
    "The average indirect effect is 492.0021, which means the federal funds rate affects the S&P 500 through its impact on CPI. The confidence interval for ACME suggests that this effect is statistically significant, as it does not include 0.\n",
    "\n",
    "The indirect effect measures the part of the relationship that is mediated by CPI. A positive indirect effect (492.0021) suggests that:\n",
    "\n",
    "- An increase in the federal funds rate leads to changes in CPI, which in turn leads to an increase in the S&P 500.\n",
    "- This could indicate that changes in inflation (CPI) caused by interest rates have a positive influence on stock market performance, possibly through mechanisms like nominal growth or price adjustments.\n",
    "\n",
    "\n",
    "### Direct Effect (ADE): -177.1566\n",
    "\n",
    "The average direct effect is -177.1566, meaning that, holding CPI constant, the federal funds rate has a negative effect on the S&P 500. The confidence interval for ADE also suggests this effect is statistically significant.\n",
    "\n",
    "The direct effect is the part of the relationship between the federal funds rate and the S&P 500 that is not mediated by CPI. A negative direct effect (-177.1566) suggests that:\n",
    "\n",
    "- When CPI is held constant, an increase in the federal funds rate leads to a decrease in the S&P 500.\n",
    "- This aligns with economic intuition, as higher interest rates typically discourage investment and reduce stock market valuations.\n",
    "\n",
    "\n",
    "### Total Effect: 314.8456\n",
    "\n",
    "The total effect is 314.8456, which combines both the direct and indirect effects.\n",
    "The total effect is the sum of the direct and indirect effects:   \n",
    "Total Effect=Direct Effect+Indirect Effect\n",
    "\n",
    "In this case: 314.8456=−177.1566+492.0021\n",
    "\n",
    "The positive total effect suggests that:\n",
    "\n",
    "- Overall, the federal funds rate has a net positive impact on the S&P 500 when both direct and mediated pathways are considered.\n",
    "\n",
    "\n",
    "### Proportion Mediated:\n",
    "\n",
    "The proportion mediated (1.53) indicates that the mediation through CPI explains more than 100% of the total effect. This might seem counterintuitive, but it can happen when the indirect effect is larger than the direct effect, and suggests that the indirect pathway plays a dominant role in explaining the relationship between the federal funds rate and the S&P 500.\n",
    "\n",
    "### Key Takeaways\n",
    "\n",
    "Competing Pathways:\n",
    "\n",
    "The direct effect suggests that higher federal funds rates have a negative impact on the S&P 500, consistent with standard economic theory.\n",
    "The indirect effect through CPI offsets this, leading to a net positive impact. This could reflect unique economic dynamics or interactions in dataset.\n",
    "\n",
    "Dominance of the Indirect Path:\n",
    "\n",
    "The indirect effect (492.0021) is larger in magnitude than the direct effect (-177.1566), indicating that the mediation through CPI is a significant driver of the relationship.\n"
   ]
  },
  {
   "cell_type": "markdown",
   "id": "673d2c07-200f-4350-85f8-bda79f723339",
   "metadata": {},
   "source": [
    "![purple-divider](https://user-images.githubusercontent.com/7065401/52071927-c1cd7100-2562-11e9-908a-dde91ba14e59.png)"
   ]
  }
 ],
 "metadata": {
  "kernelspec": {
   "display_name": "FRED_DA225",
   "language": "python",
   "name": "fred_da225"
  },
  "language_info": {
   "codemirror_mode": {
    "name": "ipython",
    "version": 3
   },
   "file_extension": ".py",
   "mimetype": "text/x-python",
   "name": "python",
   "nbconvert_exporter": "python",
   "pygments_lexer": "ipython3",
   "version": "3.11.3"
  }
 },
 "nbformat": 4,
 "nbformat_minor": 5
}
