{
 "cells": [
  {
   "cell_type": "markdown",
   "id": "98184b9d-3ede-4611-91c6-21db75ff58ee",
   "metadata": {},
   "source": [
    "## Hands on!"
   ]
  },
  {
   "cell_type": "code",
   "execution_count": 86,
   "id": "c166728a-ac1d-4613-81d7-f3485960de22",
   "metadata": {},
   "outputs": [],
   "source": [
    "import sys \n",
    "import numpy as np"
   ]
  },
  {
   "cell_type": "markdown",
   "id": "cee19160-b36a-49d3-9c99-f6c27493b957",
   "metadata": {},
   "source": [
    "### Basic Numpy Arrays"
   ]
  },
  {
   "cell_type": "code",
   "execution_count": 87,
   "id": "da69645a-4218-4677-a2d3-f82c83e05f1d",
   "metadata": {},
   "outputs": [
    {
     "data": {
      "text/plain": [
       "array([1, 2, 3, 4])"
      ]
     },
     "execution_count": 87,
     "metadata": {},
     "output_type": "execute_result"
    }
   ],
   "source": [
    "np.array([1,2,3,4])"
   ]
  },
  {
   "cell_type": "code",
   "execution_count": 88,
   "id": "4a793c12-14aa-4f4f-894c-fb28e9777c40",
   "metadata": {},
   "outputs": [],
   "source": [
    "a = np.array([1,2,3,4])"
   ]
  },
  {
   "cell_type": "code",
   "execution_count": 89,
   "id": "9de4895a-1d14-4aa0-9392-d7c4b73df13d",
   "metadata": {},
   "outputs": [],
   "source": [
    "b = np.array([0,.5,1,1.5,2])"
   ]
  },
  {
   "cell_type": "code",
   "execution_count": 90,
   "id": "ca1d516e-ac67-4dc5-8736-008a04b72d4e",
   "metadata": {},
   "outputs": [
    {
     "data": {
      "text/plain": [
       "(1, 2)"
      ]
     },
     "execution_count": 90,
     "metadata": {},
     "output_type": "execute_result"
    }
   ],
   "source": [
    "a[0], a[1]"
   ]
  },
  {
   "cell_type": "code",
   "execution_count": 91,
   "id": "cb65a7b3-bc1f-4cc9-aa32-90bb8243627d",
   "metadata": {},
   "outputs": [
    {
     "data": {
      "text/plain": [
       "array([1, 2, 3, 4])"
      ]
     },
     "execution_count": 91,
     "metadata": {},
     "output_type": "execute_result"
    }
   ],
   "source": [
    "a[0:]"
   ]
  },
  {
   "cell_type": "code",
   "execution_count": 92,
   "id": "a69b6f55-787c-42e2-8b90-bb7412528812",
   "metadata": {},
   "outputs": [
    {
     "data": {
      "text/plain": [
       "array([2, 3])"
      ]
     },
     "execution_count": 92,
     "metadata": {},
     "output_type": "execute_result"
    }
   ],
   "source": [
    "a[1:3]"
   ]
  },
  {
   "cell_type": "code",
   "execution_count": 84,
   "id": "ad85d450-4df1-46ca-83f8-af834e178a60",
   "metadata": {},
   "outputs": [
    {
     "data": {
      "text/plain": [
       "array([2, 3])"
      ]
     },
     "execution_count": 84,
     "metadata": {},
     "output_type": "execute_result"
    }
   ],
   "source": [
    "a[1:-1]"
   ]
  },
  {
   "cell_type": "code",
   "execution_count": 85,
   "id": "0e27034c-2f3b-4cbc-9d43-8127e9dccda4",
   "metadata": {},
   "outputs": [
    {
     "data": {
      "text/plain": [
       "array([1, 3])"
      ]
     },
     "execution_count": 85,
     "metadata": {},
     "output_type": "execute_result"
    }
   ],
   "source": [
    "a[::2]"
   ]
  },
  {
   "cell_type": "code",
   "execution_count": 35,
   "id": "890a701f-54cd-46cf-828c-f62d41f59db4",
   "metadata": {},
   "outputs": [
    {
     "data": {
      "text/plain": [
       "(0.0, 1.0, 2.0)"
      ]
     },
     "execution_count": 35,
     "metadata": {},
     "output_type": "execute_result"
    }
   ],
   "source": [
    "b[0], b[2], b[-1]"
   ]
  },
  {
   "cell_type": "code",
   "execution_count": 36,
   "id": "7dbb8e1c-20dc-4ea1-8a60-9b78e89a105f",
   "metadata": {},
   "outputs": [
    {
     "data": {
      "text/plain": [
       "array([0., 1., 2.])"
      ]
     },
     "execution_count": 36,
     "metadata": {},
     "output_type": "execute_result"
    }
   ],
   "source": [
    "b[[0,2,-1]]"
   ]
  },
  {
   "cell_type": "markdown",
   "id": "5f36a525-5915-409b-aea2-dfc5e75e8fcb",
   "metadata": {},
   "source": [
    "## Array Types"
   ]
  },
  {
   "cell_type": "code",
   "execution_count": 37,
   "id": "9ef58531-6b6c-42fa-9873-84db3817b288",
   "metadata": {},
   "outputs": [
    {
     "data": {
      "text/plain": [
       "array([1, 2, 3, 4])"
      ]
     },
     "execution_count": 37,
     "metadata": {},
     "output_type": "execute_result"
    }
   ],
   "source": [
    "a"
   ]
  },
  {
   "cell_type": "code",
   "execution_count": 38,
   "id": "972e6599-f372-4f07-901f-22963bbdd0c5",
   "metadata": {},
   "outputs": [
    {
     "data": {
      "text/plain": [
       "dtype('int32')"
      ]
     },
     "execution_count": 38,
     "metadata": {},
     "output_type": "execute_result"
    }
   ],
   "source": [
    "a.dtype"
   ]
  },
  {
   "cell_type": "code",
   "execution_count": 39,
   "id": "2d177ab0-9a3b-483e-b6b1-8cd548b4982c",
   "metadata": {},
   "outputs": [
    {
     "data": {
      "text/plain": [
       "array([0. , 0.5, 1. , 1.5, 2. ])"
      ]
     },
     "execution_count": 39,
     "metadata": {},
     "output_type": "execute_result"
    }
   ],
   "source": [
    "b"
   ]
  },
  {
   "cell_type": "code",
   "execution_count": 40,
   "id": "a8e18a21-9fb7-4f64-921a-7f66b99c0003",
   "metadata": {},
   "outputs": [],
   "source": [
    "b.dtype = int"
   ]
  },
  {
   "cell_type": "code",
   "execution_count": 41,
   "id": "123f32c3-b792-4c6e-861a-50016552ec87",
   "metadata": {},
   "outputs": [
    {
     "data": {
      "text/plain": [
       "array([1., 2., 3., 4.])"
      ]
     },
     "execution_count": 41,
     "metadata": {},
     "output_type": "execute_result"
    }
   ],
   "source": [
    "np.array([1,2,3,4],dtype=np.float_)"
   ]
  },
  {
   "cell_type": "code",
   "execution_count": 42,
   "id": "963ff334-caa1-48df-b182-4a1a64e2b607",
   "metadata": {},
   "outputs": [],
   "source": [
    "c = np.array(['a','b','c'])"
   ]
  },
  {
   "cell_type": "code",
   "execution_count": 43,
   "id": "490695b7-ac22-40b7-b3e8-35ac74405027",
   "metadata": {},
   "outputs": [
    {
     "data": {
      "text/plain": [
       "dtype('<U1')"
      ]
     },
     "execution_count": 43,
     "metadata": {},
     "output_type": "execute_result"
    }
   ],
   "source": [
    "c.dtype"
   ]
  },
  {
   "cell_type": "code",
   "execution_count": 44,
   "id": "80c0bbe9-08e6-4ffd-9ae4-a83b8829ffa5",
   "metadata": {},
   "outputs": [],
   "source": [
    "d = np.array([{'a':1}, sys])"
   ]
  },
  {
   "cell_type": "code",
   "execution_count": 45,
   "id": "f36e4324-c5d3-44a9-acb3-08fbb235edfd",
   "metadata": {},
   "outputs": [
    {
     "data": {
      "text/plain": [
       "dtype('O')"
      ]
     },
     "execution_count": 45,
     "metadata": {},
     "output_type": "execute_result"
    }
   ],
   "source": [
    "d.dtype"
   ]
  },
  {
   "cell_type": "markdown",
   "id": "f8f0e00d-b0d6-49cd-a103-a5411c8e06b3",
   "metadata": {},
   "source": [
    "## Dimensions and shapes"
   ]
  },
  {
   "cell_type": "code",
   "execution_count": 46,
   "id": "196127ce-5b14-46e0-90f7-900042b95119",
   "metadata": {},
   "outputs": [],
   "source": [
    "A = np.array([\n",
    "    [1,2,3],\n",
    "    [3,4,5]\n",
    "])"
   ]
  },
  {
   "cell_type": "code",
   "execution_count": 47,
   "id": "ef3de006-fbc1-457b-86ad-dc743df45733",
   "metadata": {},
   "outputs": [
    {
     "data": {
      "text/plain": [
       "(2, 3)"
      ]
     },
     "execution_count": 47,
     "metadata": {},
     "output_type": "execute_result"
    }
   ],
   "source": [
    "A.shape"
   ]
  },
  {
   "cell_type": "code",
   "execution_count": 48,
   "id": "b3eb4cdc-f867-41e2-b730-1ce9303ffd1a",
   "metadata": {},
   "outputs": [
    {
     "data": {
      "text/plain": [
       "2"
      ]
     },
     "execution_count": 48,
     "metadata": {},
     "output_type": "execute_result"
    }
   ],
   "source": [
    "A.ndim"
   ]
  },
  {
   "cell_type": "code",
   "execution_count": 49,
   "id": "3903f4cd-cf23-477b-b80e-5bd25d4b656d",
   "metadata": {},
   "outputs": [
    {
     "data": {
      "text/plain": [
       "6"
      ]
     },
     "execution_count": 49,
     "metadata": {},
     "output_type": "execute_result"
    }
   ],
   "source": [
    "A.size"
   ]
  },
  {
   "cell_type": "code",
   "execution_count": 50,
   "id": "dd4bf09e-e607-46fd-9f02-8b63fcfc6142",
   "metadata": {},
   "outputs": [],
   "source": [
    "B = np.array([\n",
    "    [\n",
    "        [12,11,10],\n",
    "        [9,8,7]\n",
    "    ],\n",
    "    [\n",
    "        [6,5,4],\n",
    "        [3,2,1]\n",
    "    ]\n",
    "])"
   ]
  },
  {
   "cell_type": "code",
   "execution_count": 51,
   "id": "aa2d575b-40bf-43d3-9563-fe2d63c3399e",
   "metadata": {},
   "outputs": [
    {
     "data": {
      "text/plain": [
       "(2, 2, 3)"
      ]
     },
     "execution_count": 51,
     "metadata": {},
     "output_type": "execute_result"
    }
   ],
   "source": [
    "B.shape"
   ]
  },
  {
   "cell_type": "code",
   "execution_count": 52,
   "id": "5d5a4f7a-12e8-4369-ba16-b6484e3d0fbd",
   "metadata": {},
   "outputs": [
    {
     "data": {
      "text/plain": [
       "3"
      ]
     },
     "execution_count": 52,
     "metadata": {},
     "output_type": "execute_result"
    }
   ],
   "source": [
    "B.ndim"
   ]
  },
  {
   "cell_type": "code",
   "execution_count": 53,
   "id": "49a8c128-64e5-4506-8b27-27a9c17acbbf",
   "metadata": {},
   "outputs": [
    {
     "data": {
      "text/plain": [
       "12"
      ]
     },
     "execution_count": 53,
     "metadata": {},
     "output_type": "execute_result"
    }
   ],
   "source": [
    "B.size"
   ]
  },
  {
   "cell_type": "code",
   "execution_count": 56,
   "id": "de3ec7aa-af14-4b2b-b344-2fc75068bb5f",
   "metadata": {},
   "outputs": [],
   "source": [
    "C = np.array([\n",
    "    [\n",
    "        [12,11,10],\n",
    "        [9,8,7]\n",
    "    ],\n",
    "    [\n",
    "        [6,5,4],\n",
    "        [3,2,1]\n",
    "    ]\n",
    "])"
   ]
  },
  {
   "cell_type": "markdown",
   "id": "fed34388-6e35-4f49-93ac-725f0def8d5e",
   "metadata": {},
   "source": [
    "## Indexing and slicing of matrices"
   ]
  },
  {
   "cell_type": "code",
   "execution_count": 57,
   "id": "35a2e5c7-be56-477a-95bb-8a4b4f342b24",
   "metadata": {},
   "outputs": [],
   "source": [
    "A = np.array([\n",
    "    [1,2,3],\n",
    "    [4,5,6],\n",
    "    [7,8,9]\n",
    "])"
   ]
  },
  {
   "cell_type": "code",
   "execution_count": 58,
   "id": "350f821d-b431-4c9e-b1bd-05088ccf257d",
   "metadata": {},
   "outputs": [
    {
     "data": {
      "text/plain": [
       "array([4, 5, 6])"
      ]
     },
     "execution_count": 58,
     "metadata": {},
     "output_type": "execute_result"
    }
   ],
   "source": [
    "A[1]"
   ]
  },
  {
   "cell_type": "code",
   "execution_count": 59,
   "id": "4da1874d-abae-4040-ba85-b541579b295f",
   "metadata": {},
   "outputs": [
    {
     "data": {
      "text/plain": [
       "4"
      ]
     },
     "execution_count": 59,
     "metadata": {},
     "output_type": "execute_result"
    }
   ],
   "source": [
    "A[1][0]"
   ]
  },
  {
   "cell_type": "code",
   "execution_count": 60,
   "id": "274f7139-9193-44d3-ade3-a8afd8190fe1",
   "metadata": {},
   "outputs": [
    {
     "data": {
      "text/plain": [
       "4"
      ]
     },
     "execution_count": 60,
     "metadata": {},
     "output_type": "execute_result"
    }
   ],
   "source": [
    "A[1,0]"
   ]
  },
  {
   "cell_type": "code",
   "execution_count": 61,
   "id": "44c5493a-12d3-44e7-8363-3ea84a47f647",
   "metadata": {},
   "outputs": [
    {
     "data": {
      "text/plain": [
       "array([[1, 2, 3],\n",
       "       [4, 5, 6]])"
      ]
     },
     "execution_count": 61,
     "metadata": {},
     "output_type": "execute_result"
    }
   ],
   "source": [
    "A[0:2]"
   ]
  },
  {
   "cell_type": "code",
   "execution_count": 62,
   "id": "41bb94be-19bc-41d6-9ff7-57a506101275",
   "metadata": {},
   "outputs": [
    {
     "data": {
      "text/plain": [
       "array([[1, 2],\n",
       "       [4, 5],\n",
       "       [7, 8]])"
      ]
     },
     "execution_count": 62,
     "metadata": {},
     "output_type": "execute_result"
    }
   ],
   "source": [
    "A[:, :2]"
   ]
  },
  {
   "cell_type": "code",
   "execution_count": 63,
   "id": "f3bace77-4fa9-406b-bf52-f46300b15b51",
   "metadata": {},
   "outputs": [
    {
     "data": {
      "text/plain": [
       "array([[1, 2],\n",
       "       [4, 5]])"
      ]
     },
     "execution_count": 63,
     "metadata": {},
     "output_type": "execute_result"
    }
   ],
   "source": [
    "A[:2, :2]"
   ]
  },
  {
   "cell_type": "code",
   "execution_count": 64,
   "id": "aca66937-f7e6-463a-97b1-3144fb318562",
   "metadata": {},
   "outputs": [
    {
     "data": {
      "text/plain": [
       "array([[3],\n",
       "       [6]])"
      ]
     },
     "execution_count": 64,
     "metadata": {},
     "output_type": "execute_result"
    }
   ],
   "source": [
    "A[:2, 2:]"
   ]
  },
  {
   "cell_type": "code",
   "execution_count": 65,
   "id": "c60b8260-16e6-4148-8567-45e44c21ab23",
   "metadata": {},
   "outputs": [],
   "source": [
    "A[1] = np.array([10,10,10])"
   ]
  },
  {
   "cell_type": "code",
   "execution_count": 66,
   "id": "b9867d7e-c17a-4d0f-8240-284784fc53a9",
   "metadata": {},
   "outputs": [
    {
     "data": {
      "text/plain": [
       "array([[ 1,  2,  3],\n",
       "       [10, 10, 10],\n",
       "       [ 7,  8,  9]])"
      ]
     },
     "execution_count": 66,
     "metadata": {},
     "output_type": "execute_result"
    }
   ],
   "source": [
    "A"
   ]
  },
  {
   "cell_type": "code",
   "execution_count": 67,
   "id": "0f5bcf34-3863-4334-98b6-603857e7c037",
   "metadata": {},
   "outputs": [],
   "source": [
    "A[2] = 99"
   ]
  },
  {
   "cell_type": "code",
   "execution_count": 68,
   "id": "9dc80d4a-6e3f-423b-a216-36715a0b46f8",
   "metadata": {},
   "outputs": [
    {
     "data": {
      "text/plain": [
       "array([[ 1,  2,  3],\n",
       "       [10, 10, 10],\n",
       "       [99, 99, 99]])"
      ]
     },
     "execution_count": 68,
     "metadata": {},
     "output_type": "execute_result"
    }
   ],
   "source": [
    "A"
   ]
  },
  {
   "cell_type": "markdown",
   "id": "47c77369-76e7-4245-885a-f5b35a1e65d6",
   "metadata": {},
   "source": [
    "## Summary Statistics"
   ]
  },
  {
   "cell_type": "code",
   "execution_count": 69,
   "id": "5cf67281-f5aa-42b2-a0d8-d9b4158306a2",
   "metadata": {},
   "outputs": [],
   "source": [
    "a = np.array([1,2,3,4])"
   ]
  },
  {
   "cell_type": "code",
   "execution_count": 70,
   "id": "24aea388-a95e-42e8-91a6-0e75f3dfcde6",
   "metadata": {},
   "outputs": [
    {
     "data": {
      "text/plain": [
       "10"
      ]
     },
     "execution_count": 70,
     "metadata": {},
     "output_type": "execute_result"
    }
   ],
   "source": [
    "a.sum()"
   ]
  },
  {
   "cell_type": "code",
   "execution_count": 71,
   "id": "d8fc6277-10c1-4477-896e-502929340a67",
   "metadata": {},
   "outputs": [
    {
     "data": {
      "text/plain": [
       "2.5"
      ]
     },
     "execution_count": 71,
     "metadata": {},
     "output_type": "execute_result"
    }
   ],
   "source": [
    "a.mean()"
   ]
  },
  {
   "cell_type": "code",
   "execution_count": 72,
   "id": "be31d47e-49ed-4533-b457-fe955e31621f",
   "metadata": {},
   "outputs": [
    {
     "data": {
      "text/plain": [
       "1.118033988749895"
      ]
     },
     "execution_count": 72,
     "metadata": {},
     "output_type": "execute_result"
    }
   ],
   "source": [
    "a.std()"
   ]
  },
  {
   "cell_type": "code",
   "execution_count": 73,
   "id": "564465a4-77dc-41b0-a575-3fbcae811719",
   "metadata": {},
   "outputs": [
    {
     "data": {
      "text/plain": [
       "1.25"
      ]
     },
     "execution_count": 73,
     "metadata": {},
     "output_type": "execute_result"
    }
   ],
   "source": [
    "a.var()"
   ]
  },
  {
   "cell_type": "code",
   "execution_count": 74,
   "id": "13d485b2-5827-429a-9fa8-0c08117159e2",
   "metadata": {},
   "outputs": [],
   "source": [
    "A = np.array([\n",
    "    [1,2,3],\n",
    "    [4,5,6],\n",
    "    [7,8,9]\n",
    "])"
   ]
  },
  {
   "cell_type": "code",
   "execution_count": 75,
   "id": "6621fa8a-360f-4367-affd-f6b23a85e7a5",
   "metadata": {},
   "outputs": [
    {
     "data": {
      "text/plain": [
       "45"
      ]
     },
     "execution_count": 75,
     "metadata": {},
     "output_type": "execute_result"
    }
   ],
   "source": [
    "A.sum()"
   ]
  },
  {
   "cell_type": "code",
   "execution_count": 76,
   "id": "cf9810cc-6422-4364-9024-563b9c819382",
   "metadata": {},
   "outputs": [
    {
     "data": {
      "text/plain": [
       "5.0"
      ]
     },
     "execution_count": 76,
     "metadata": {},
     "output_type": "execute_result"
    }
   ],
   "source": [
    "A.mean()"
   ]
  },
  {
   "cell_type": "code",
   "execution_count": 77,
   "id": "37802f6f-e401-4a40-b92a-93cd701dc8d8",
   "metadata": {},
   "outputs": [
    {
     "data": {
      "text/plain": [
       "2.581988897471611"
      ]
     },
     "execution_count": 77,
     "metadata": {},
     "output_type": "execute_result"
    }
   ],
   "source": [
    "A.std()"
   ]
  },
  {
   "cell_type": "code",
   "execution_count": 78,
   "id": "f8ad9a7b-126d-4301-8686-78019c64bf09",
   "metadata": {},
   "outputs": [
    {
     "data": {
      "text/plain": [
       "6.666666666666667"
      ]
     },
     "execution_count": 78,
     "metadata": {},
     "output_type": "execute_result"
    }
   ],
   "source": [
    "A.var()"
   ]
  },
  {
   "cell_type": "code",
   "execution_count": 79,
   "id": "9a48b62e-3c01-4123-ba62-648eae4e8c14",
   "metadata": {},
   "outputs": [
    {
     "data": {
      "text/plain": [
       "array([12, 15, 18])"
      ]
     },
     "execution_count": 79,
     "metadata": {},
     "output_type": "execute_result"
    }
   ],
   "source": [
    "A.sum(axis=0)"
   ]
  },
  {
   "cell_type": "code",
   "execution_count": 80,
   "id": "0a9da9d4-0bc4-4c9b-8f59-1dfa14d203d2",
   "metadata": {},
   "outputs": [
    {
     "data": {
      "text/plain": [
       "array([ 6, 15, 24])"
      ]
     },
     "execution_count": 80,
     "metadata": {},
     "output_type": "execute_result"
    }
   ],
   "source": [
    "A.sum(axis=1)"
   ]
  },
  {
   "cell_type": "code",
   "execution_count": 81,
   "id": "5be9c5b4-6d96-4180-9d51-fa3d2df88164",
   "metadata": {},
   "outputs": [
    {
     "data": {
      "text/plain": [
       "array([4., 5., 6.])"
      ]
     },
     "execution_count": 81,
     "metadata": {},
     "output_type": "execute_result"
    }
   ],
   "source": [
    "A.mean(axis=0)"
   ]
  },
  {
   "cell_type": "code",
   "execution_count": 82,
   "id": "376052b7-8720-4c7f-9150-288486244ada",
   "metadata": {},
   "outputs": [
    {
     "data": {
      "text/plain": [
       "array([2., 5., 8.])"
      ]
     },
     "execution_count": 82,
     "metadata": {},
     "output_type": "execute_result"
    }
   ],
   "source": [
    "A.mean(axis=1)"
   ]
  },
  {
   "cell_type": "code",
   "execution_count": 83,
   "id": "30630e88-95e2-4c54-86b2-284eb6cc1a5c",
   "metadata": {},
   "outputs": [
    {
     "data": {
      "text/plain": [
       "array([2.44948974, 2.44948974, 2.44948974])"
      ]
     },
     "execution_count": 83,
     "metadata": {},
     "output_type": "execute_result"
    }
   ],
   "source": [
    "A.std(axis=0)"
   ]
  },
  {
   "cell_type": "code",
   "execution_count": 84,
   "id": "d056db06-51ff-449d-8a54-715e9c89b0c3",
   "metadata": {},
   "outputs": [
    {
     "data": {
      "text/plain": [
       "array([0.81649658, 0.81649658, 0.81649658])"
      ]
     },
     "execution_count": 84,
     "metadata": {},
     "output_type": "execute_result"
    }
   ],
   "source": [
    "A.std(axis=1)"
   ]
  },
  {
   "cell_type": "code",
   "execution_count": 85,
   "id": "48d9e65b-4ff6-43c8-b371-bcedda22e4f7",
   "metadata": {},
   "outputs": [
    {
     "data": {
      "text/plain": [
       "array([6., 6., 6.])"
      ]
     },
     "execution_count": 85,
     "metadata": {},
     "output_type": "execute_result"
    }
   ],
   "source": [
    "A.var(axis=0)"
   ]
  },
  {
   "cell_type": "code",
   "execution_count": 86,
   "id": "0ea92023-7822-4791-9538-0ecd306d6791",
   "metadata": {},
   "outputs": [
    {
     "data": {
      "text/plain": [
       "array([0.66666667, 0.66666667, 0.66666667])"
      ]
     },
     "execution_count": 86,
     "metadata": {},
     "output_type": "execute_result"
    }
   ],
   "source": [
    "A.var(axis=1)"
   ]
  },
  {
   "cell_type": "markdown",
   "id": "e7fc7ac9-5c03-41eb-9f53-16ced85235b9",
   "metadata": {},
   "source": [
    "______________________\n",
    "\n",
    "## Broadcasting and Vectorized Operations"
   ]
  },
  {
   "cell_type": "code",
   "execution_count": 87,
   "id": "d2822ea3-d757-4676-bdab-730b73f8d9fb",
   "metadata": {},
   "outputs": [],
   "source": [
    "a = np.arange(4)"
   ]
  },
  {
   "cell_type": "code",
   "execution_count": 88,
   "id": "cd9f7f21-1c4f-4d35-947b-2aa8caef80ab",
   "metadata": {},
   "outputs": [
    {
     "data": {
      "text/plain": [
       "array([0, 1, 2, 3])"
      ]
     },
     "execution_count": 88,
     "metadata": {},
     "output_type": "execute_result"
    }
   ],
   "source": [
    "a"
   ]
  },
  {
   "cell_type": "code",
   "execution_count": 89,
   "id": "cec55cde-1273-4f9c-bd7d-89e945032ef4",
   "metadata": {},
   "outputs": [
    {
     "data": {
      "text/plain": [
       "array([10, 11, 12, 13])"
      ]
     },
     "execution_count": 89,
     "metadata": {},
     "output_type": "execute_result"
    }
   ],
   "source": [
    "a + 10"
   ]
  },
  {
   "cell_type": "code",
   "execution_count": 90,
   "id": "c7743cee-7635-476d-8768-0910cc0e1f83",
   "metadata": {},
   "outputs": [
    {
     "data": {
      "text/plain": [
       "array([ 0, 10, 20, 30])"
      ]
     },
     "execution_count": 90,
     "metadata": {},
     "output_type": "execute_result"
    }
   ],
   "source": [
    "a * 10"
   ]
  },
  {
   "cell_type": "code",
   "execution_count": 91,
   "id": "2a606b79-cc6d-42fe-a57f-a125d9efb5fb",
   "metadata": {},
   "outputs": [],
   "source": [
    "a += 100"
   ]
  },
  {
   "cell_type": "code",
   "execution_count": 92,
   "id": "a27e14e0-4f0f-41ed-881c-1208492899fc",
   "metadata": {},
   "outputs": [
    {
     "data": {
      "text/plain": [
       "array([100, 101, 102, 103])"
      ]
     },
     "execution_count": 92,
     "metadata": {},
     "output_type": "execute_result"
    }
   ],
   "source": [
    "a"
   ]
  },
  {
   "cell_type": "code",
   "execution_count": 93,
   "id": "352aa113-bb6b-489c-b7bf-9b64d3533844",
   "metadata": {},
   "outputs": [],
   "source": [
    "l = [0,1,2,3]"
   ]
  },
  {
   "cell_type": "code",
   "execution_count": 94,
   "id": "f9cbead1-890d-4465-bbb9-24878ca0b7a6",
   "metadata": {},
   "outputs": [
    {
     "data": {
      "text/plain": [
       "[0, 10, 20, 30]"
      ]
     },
     "execution_count": 94,
     "metadata": {},
     "output_type": "execute_result"
    }
   ],
   "source": [
    "[i * 10 for i in l]"
   ]
  },
  {
   "cell_type": "code",
   "execution_count": 95,
   "id": "f25ba236-3050-4832-afc9-721a4a5340e8",
   "metadata": {},
   "outputs": [],
   "source": [
    "a = np.arange(4)"
   ]
  },
  {
   "cell_type": "code",
   "execution_count": 96,
   "id": "d6becd92-09d2-4bec-8185-fa0e7c965c55",
   "metadata": {},
   "outputs": [
    {
     "data": {
      "text/plain": [
       "array([0, 1, 2, 3])"
      ]
     },
     "execution_count": 96,
     "metadata": {},
     "output_type": "execute_result"
    }
   ],
   "source": [
    "a"
   ]
  },
  {
   "cell_type": "code",
   "execution_count": 97,
   "id": "738e8b3e-0887-43ed-b749-4f9db84b251f",
   "metadata": {},
   "outputs": [],
   "source": [
    "b = np.array([10,10,10,10])"
   ]
  },
  {
   "cell_type": "code",
   "execution_count": 98,
   "id": "ee07bd5a-fe45-4233-81e0-1a9e7d9af1ed",
   "metadata": {},
   "outputs": [
    {
     "data": {
      "text/plain": [
       "array([10, 11, 12, 13])"
      ]
     },
     "execution_count": 98,
     "metadata": {},
     "output_type": "execute_result"
    }
   ],
   "source": [
    "a + b"
   ]
  },
  {
   "cell_type": "code",
   "execution_count": 99,
   "id": "1f5a4402-d8a7-415f-a740-6a39b1a1b946",
   "metadata": {},
   "outputs": [
    {
     "data": {
      "text/plain": [
       "array([ 0, 10, 20, 30])"
      ]
     },
     "execution_count": 99,
     "metadata": {},
     "output_type": "execute_result"
    }
   ],
   "source": [
    "a * b"
   ]
  },
  {
   "cell_type": "markdown",
   "id": "d1e23e9b-b6e4-44d5-8e66-13f66844b307",
   "metadata": {},
   "source": [
    "_____________\n",
    "## Boolean arrays"
   ]
  },
  {
   "cell_type": "code",
   "execution_count": 100,
   "id": "f930a3a8-026e-4c44-8fc4-43b46eb2a618",
   "metadata": {},
   "outputs": [],
   "source": [
    "a = np.arange(4)"
   ]
  },
  {
   "cell_type": "code",
   "execution_count": 101,
   "id": "ef419b6c-a1e3-47ab-b368-91cc5331556e",
   "metadata": {},
   "outputs": [
    {
     "data": {
      "text/plain": [
       "array([0, 1, 2, 3])"
      ]
     },
     "execution_count": 101,
     "metadata": {},
     "output_type": "execute_result"
    }
   ],
   "source": [
    "a"
   ]
  },
  {
   "cell_type": "code",
   "execution_count": 102,
   "id": "b045fe2e-1bb1-443f-b119-7a2129261e43",
   "metadata": {},
   "outputs": [
    {
     "data": {
      "text/plain": [
       "array([0, 3])"
      ]
     },
     "execution_count": 102,
     "metadata": {},
     "output_type": "execute_result"
    }
   ],
   "source": [
    "a[[0, -1]]"
   ]
  },
  {
   "cell_type": "code",
   "execution_count": 103,
   "id": "64c0a82d-cc22-4ef9-8244-174f08ffacf2",
   "metadata": {},
   "outputs": [
    {
     "data": {
      "text/plain": [
       "array([0, 3])"
      ]
     },
     "execution_count": 103,
     "metadata": {},
     "output_type": "execute_result"
    }
   ],
   "source": [
    "a[[True,False,False,True]]"
   ]
  },
  {
   "cell_type": "code",
   "execution_count": 104,
   "id": "b349b4a0-dfa9-46a2-8370-457470d882d9",
   "metadata": {},
   "outputs": [
    {
     "data": {
      "text/plain": [
       "array([False, False,  True,  True])"
      ]
     },
     "execution_count": 104,
     "metadata": {},
     "output_type": "execute_result"
    }
   ],
   "source": [
    "a >= 2"
   ]
  },
  {
   "cell_type": "code",
   "execution_count": 105,
   "id": "988e9ff9-eb05-4d47-8b40-9e4dc3de37cb",
   "metadata": {},
   "outputs": [
    {
     "data": {
      "text/plain": [
       "array([2, 3])"
      ]
     },
     "execution_count": 105,
     "metadata": {},
     "output_type": "execute_result"
    }
   ],
   "source": [
    "a[a>=2]"
   ]
  },
  {
   "cell_type": "code",
   "execution_count": 106,
   "id": "fe8251b9-dea6-42c1-a6b3-2831edf3a617",
   "metadata": {},
   "outputs": [
    {
     "data": {
      "text/plain": [
       "1.5"
      ]
     },
     "execution_count": 106,
     "metadata": {},
     "output_type": "execute_result"
    }
   ],
   "source": [
    "a.mean()"
   ]
  },
  {
   "cell_type": "code",
   "execution_count": 107,
   "id": "409fc7ee-00ac-4394-8e35-ae9292e43ab8",
   "metadata": {},
   "outputs": [
    {
     "data": {
      "text/plain": [
       "array([2, 3])"
      ]
     },
     "execution_count": 107,
     "metadata": {},
     "output_type": "execute_result"
    }
   ],
   "source": [
    "a[a > a.mean()]"
   ]
  },
  {
   "cell_type": "code",
   "execution_count": 108,
   "id": "e07aad40-f582-4957-975a-37d9d1556cf8",
   "metadata": {},
   "outputs": [
    {
     "data": {
      "text/plain": [
       "array([0, 1])"
      ]
     },
     "execution_count": 108,
     "metadata": {},
     "output_type": "execute_result"
    }
   ],
   "source": [
    "a[~(a > a.mean())]"
   ]
  },
  {
   "cell_type": "code",
   "execution_count": 109,
   "id": "f08ba7b3-5c99-4a71-9a0e-7a55432af243",
   "metadata": {},
   "outputs": [
    {
     "data": {
      "text/plain": [
       "array([0, 1])"
      ]
     },
     "execution_count": 109,
     "metadata": {},
     "output_type": "execute_result"
    }
   ],
   "source": [
    "a[(a == 0) | (a ==1)]"
   ]
  },
  {
   "cell_type": "code",
   "execution_count": 110,
   "id": "4cbf65aa-4abc-4e2d-b26f-0f09c80974ed",
   "metadata": {},
   "outputs": [
    {
     "data": {
      "text/plain": [
       "array([0, 2])"
      ]
     },
     "execution_count": 110,
     "metadata": {},
     "output_type": "execute_result"
    }
   ],
   "source": [
    "a[(a <= 2) & (a % 2 ==0)]"
   ]
  },
  {
   "cell_type": "code",
   "execution_count": 111,
   "id": "e8bdc88d-788f-4eec-9add-b40d0497abda",
   "metadata": {},
   "outputs": [],
   "source": [
    "A = np.random.randint(100, size=(3,3))"
   ]
  },
  {
   "cell_type": "code",
   "execution_count": 112,
   "id": "29bc693b-55c1-4c25-84f7-d6c1cd318740",
   "metadata": {},
   "outputs": [
    {
     "data": {
      "text/plain": [
       "array([[17, 20, 27],\n",
       "       [26, 12, 57],\n",
       "       [84, 47, 63]])"
      ]
     },
     "execution_count": 112,
     "metadata": {},
     "output_type": "execute_result"
    }
   ],
   "source": [
    "A"
   ]
  },
  {
   "cell_type": "code",
   "execution_count": 113,
   "id": "e30b1753-4c8a-4d28-9782-5461afb13e85",
   "metadata": {},
   "outputs": [
    {
     "data": {
      "text/plain": [
       "array([17, 27, 12, 84, 63])"
      ]
     },
     "execution_count": 113,
     "metadata": {},
     "output_type": "execute_result"
    }
   ],
   "source": [
    "A[np.array([\n",
    "    [True,False,True],\n",
    "    [False,True,False],\n",
    "    [True,False,True]\n",
    "])]"
   ]
  },
  {
   "cell_type": "code",
   "execution_count": 114,
   "id": "2257a0cb-bab9-463f-9d36-5098a61242d1",
   "metadata": {},
   "outputs": [
    {
     "data": {
      "text/plain": [
       "array([[False, False, False],\n",
       "       [False, False,  True],\n",
       "       [ True,  True,  True]])"
      ]
     },
     "execution_count": 114,
     "metadata": {},
     "output_type": "execute_result"
    }
   ],
   "source": [
    "A > 30"
   ]
  },
  {
   "cell_type": "code",
   "execution_count": 115,
   "id": "b31df492-bfc1-4ea8-94bb-cd41a9951c19",
   "metadata": {},
   "outputs": [
    {
     "data": {
      "text/plain": [
       "array([57, 84, 47, 63])"
      ]
     },
     "execution_count": 115,
     "metadata": {},
     "output_type": "execute_result"
    }
   ],
   "source": [
    "A[A > 30]"
   ]
  },
  {
   "cell_type": "markdown",
   "id": "056083d4-40f4-446e-9f57-a1884805d9af",
   "metadata": {},
   "source": [
    "## Linear Algebra"
   ]
  },
  {
   "cell_type": "code",
   "execution_count": 116,
   "id": "5aa15e4f-4fe7-4fa0-8346-06990b80dc1b",
   "metadata": {},
   "outputs": [],
   "source": [
    "A = np.array([\n",
    "    [1,2,3],\n",
    "    [4,5,6],\n",
    "    [7,8,9]\n",
    "])"
   ]
  },
  {
   "cell_type": "code",
   "execution_count": 117,
   "id": "eface4f4-0b2c-4b10-8f05-48c9a1252511",
   "metadata": {},
   "outputs": [],
   "source": [
    "B = np.array([\n",
    "    [6,5],\n",
    "    [4,3],\n",
    "    [2,1]\n",
    "])"
   ]
  },
  {
   "cell_type": "code",
   "execution_count": 118,
   "id": "a759757d-ea9d-4c4c-9bc2-c1596ea57966",
   "metadata": {},
   "outputs": [
    {
     "data": {
      "text/plain": [
       "array([[20, 14],\n",
       "       [56, 41],\n",
       "       [92, 68]])"
      ]
     },
     "execution_count": 118,
     "metadata": {},
     "output_type": "execute_result"
    }
   ],
   "source": [
    "A.dot(B)"
   ]
  },
  {
   "cell_type": "code",
   "execution_count": 119,
   "id": "91592bb1-2534-4ce1-9266-277b7af1374f",
   "metadata": {},
   "outputs": [
    {
     "data": {
      "text/plain": [
       "array([[20, 14],\n",
       "       [56, 41],\n",
       "       [92, 68]])"
      ]
     },
     "execution_count": 119,
     "metadata": {},
     "output_type": "execute_result"
    }
   ],
   "source": [
    "A @ B"
   ]
  },
  {
   "cell_type": "code",
   "execution_count": 120,
   "id": "3d5d56a4-28d0-4d82-9cc1-7ac48642015b",
   "metadata": {},
   "outputs": [
    {
     "data": {
      "text/plain": [
       "array([[6, 4, 2],\n",
       "       [5, 3, 1]])"
      ]
     },
     "execution_count": 120,
     "metadata": {},
     "output_type": "execute_result"
    }
   ],
   "source": [
    "B.T"
   ]
  },
  {
   "cell_type": "code",
   "execution_count": 121,
   "id": "f83ba295-01d4-496d-b3f4-00b098ab7afb",
   "metadata": {},
   "outputs": [
    {
     "data": {
      "text/plain": [
       "array([[1, 2, 3],\n",
       "       [4, 5, 6],\n",
       "       [7, 8, 9]])"
      ]
     },
     "execution_count": 121,
     "metadata": {},
     "output_type": "execute_result"
    }
   ],
   "source": [
    "A"
   ]
  },
  {
   "cell_type": "code",
   "execution_count": 122,
   "id": "fa60c8d9-57bd-44f1-b938-53201a2d0404",
   "metadata": {},
   "outputs": [
    {
     "data": {
      "text/plain": [
       "array([[36, 48, 60],\n",
       "       [24, 33, 42]])"
      ]
     },
     "execution_count": 122,
     "metadata": {},
     "output_type": "execute_result"
    }
   ],
   "source": [
    "B.T @ A"
   ]
  },
  {
   "cell_type": "markdown",
   "id": "dd5d744d-2d45-4604-9e9c-7762ee33d5cc",
   "metadata": {},
   "source": [
    "## Size of objects in Memory"
   ]
  },
  {
   "cell_type": "markdown",
   "id": "596216cc-8d15-4ce7-850a-15210ed2e533",
   "metadata": {},
   "source": [
    "### Int, floats"
   ]
  },
  {
   "cell_type": "code",
   "execution_count": 123,
   "id": "8659eb56-2e41-46bf-a084-aba5ca590022",
   "metadata": {},
   "outputs": [
    {
     "data": {
      "text/plain": [
       "28"
      ]
     },
     "execution_count": 123,
     "metadata": {},
     "output_type": "execute_result"
    }
   ],
   "source": [
    "# An integer in Python is > 24bytes\n",
    "sys.getsizeof(1)"
   ]
  },
  {
   "cell_type": "code",
   "execution_count": 124,
   "id": "d3837f2e-fb38-4d7a-b5c2-446c9a31d089",
   "metadata": {},
   "outputs": [
    {
     "data": {
      "text/plain": [
       "72"
      ]
     },
     "execution_count": 124,
     "metadata": {},
     "output_type": "execute_result"
    }
   ],
   "source": [
    "# longs are even larger\n",
    "sys.getsizeof(10**100)"
   ]
  },
  {
   "cell_type": "code",
   "execution_count": 125,
   "id": "dd819477-0b90-4fca-bdf2-c75c55074d88",
   "metadata": {},
   "outputs": [
    {
     "data": {
      "text/plain": [
       "4"
      ]
     },
     "execution_count": 125,
     "metadata": {},
     "output_type": "execute_result"
    }
   ],
   "source": [
    "# Numpy size is much smaller\n",
    "np.dtype(int).itemsize"
   ]
  },
  {
   "cell_type": "code",
   "execution_count": 126,
   "id": "8653cdd0-e438-4e8d-9320-e9799bc05dbd",
   "metadata": {},
   "outputs": [
    {
     "data": {
      "text/plain": [
       "8"
      ]
     },
     "execution_count": 126,
     "metadata": {},
     "output_type": "execute_result"
    }
   ],
   "source": [
    "np.dtype(float).itemsize"
   ]
  },
  {
   "cell_type": "markdown",
   "id": "4ce0c1f7-bfe0-43b6-a01e-9f2194538720",
   "metadata": {},
   "source": [
    "## Lists are even larger"
   ]
  },
  {
   "cell_type": "code",
   "execution_count": 127,
   "id": "d999f879-3a1c-4521-94f7-b38e388bbeb1",
   "metadata": {},
   "outputs": [
    {
     "data": {
      "text/plain": [
       "64"
      ]
     },
     "execution_count": 127,
     "metadata": {},
     "output_type": "execute_result"
    }
   ],
   "source": [
    "# A one-element list\n",
    "sys.getsizeof([1])"
   ]
  },
  {
   "cell_type": "code",
   "execution_count": 128,
   "id": "1bbebc5a-ed58-4c74-b123-13571896495f",
   "metadata": {},
   "outputs": [
    {
     "data": {
      "text/plain": [
       "4"
      ]
     },
     "execution_count": 128,
     "metadata": {},
     "output_type": "execute_result"
    }
   ],
   "source": [
    "np.array([1]).nbytes"
   ]
  },
  {
   "cell_type": "markdown",
   "id": "2ff09daa-0f5b-455a-887b-15323434b34b",
   "metadata": {},
   "source": [
    "## And performance is also important "
   ]
  },
  {
   "cell_type": "code",
   "execution_count": 129,
   "id": "b7fb5b7f-3094-4414-9a07-9f48f0fd9d2a",
   "metadata": {},
   "outputs": [],
   "source": [
    "l = list(range(1000))"
   ]
  },
  {
   "cell_type": "code",
   "execution_count": 130,
   "id": "40e5d57f-d00d-4627-998f-633e31914963",
   "metadata": {},
   "outputs": [],
   "source": [
    "a = np.arange(1000)"
   ]
  },
  {
   "cell_type": "code",
   "execution_count": 131,
   "id": "9b9deab3-45fb-43b8-8beb-20985d385fc2",
   "metadata": {},
   "outputs": [
    {
     "name": "stdout",
     "output_type": "stream",
     "text": [
      "CPU times: total: 0 ns\n",
      "Wall time: 0 ns\n"
     ]
    },
    {
     "data": {
      "text/plain": [
       "332833500"
      ]
     },
     "execution_count": 131,
     "metadata": {},
     "output_type": "execute_result"
    }
   ],
   "source": [
    "%time np.sum(a ** 2)"
   ]
  },
  {
   "cell_type": "code",
   "execution_count": 132,
   "id": "310a5872-d110-4b71-8a20-493e9d1c8e33",
   "metadata": {},
   "outputs": [
    {
     "name": "stdout",
     "output_type": "stream",
     "text": [
      "CPU times: total: 0 ns\n",
      "Wall time: 0 ns\n"
     ]
    },
    {
     "data": {
      "text/plain": [
       "332833500"
      ]
     },
     "execution_count": 132,
     "metadata": {},
     "output_type": "execute_result"
    }
   ],
   "source": [
    "%time sum([x ** 2 for x in l])"
   ]
  },
  {
   "cell_type": "markdown",
   "id": "e522b688-4145-4764-a9d6-22381e760e0b",
   "metadata": {},
   "source": [
    "## Useful numpy functions"
   ]
  },
  {
   "cell_type": "markdown",
   "id": "1749877b-06ec-4972-9604-72239c7843ad",
   "metadata": {},
   "source": [
    "__random__"
   ]
  },
  {
   "cell_type": "code",
   "execution_count": 133,
   "id": "14e36d63-4ac4-4fb9-ad12-2dd5f72b11d1",
   "metadata": {},
   "outputs": [
    {
     "data": {
      "text/plain": [
       "array([0.18213893, 0.99633396])"
      ]
     },
     "execution_count": 133,
     "metadata": {},
     "output_type": "execute_result"
    }
   ],
   "source": [
    "np.random.random(size=2)"
   ]
  },
  {
   "cell_type": "code",
   "execution_count": 134,
   "id": "de469089-9357-4a71-9dc4-c1864682bb25",
   "metadata": {},
   "outputs": [
    {
     "data": {
      "text/plain": [
       "array([ 0.43520327, -0.54284378])"
      ]
     },
     "execution_count": 134,
     "metadata": {},
     "output_type": "execute_result"
    }
   ],
   "source": [
    "np.random.normal(size=2)"
   ]
  },
  {
   "cell_type": "code",
   "execution_count": 135,
   "id": "ef713fab-499c-4ed6-8572-a8a2963f2d9a",
   "metadata": {},
   "outputs": [
    {
     "data": {
      "text/plain": [
       "array([[0.87470264, 0.59833444, 0.97638699, 0.10917807],\n",
       "       [0.14726995, 0.12223332, 0.97624415, 0.40583009]])"
      ]
     },
     "execution_count": 135,
     "metadata": {},
     "output_type": "execute_result"
    }
   ],
   "source": [
    "np.random.rand(2,4)"
   ]
  },
  {
   "cell_type": "markdown",
   "id": "91119f6b-ece5-4cbe-95cc-88d57e492070",
   "metadata": {},
   "source": [
    "__arange__"
   ]
  },
  {
   "cell_type": "code",
   "execution_count": 136,
   "id": "39f8790a-45cd-47c1-9cee-4d0543274e8f",
   "metadata": {},
   "outputs": [
    {
     "data": {
      "text/plain": [
       "array([0, 1, 2, 3, 4, 5, 6, 7, 8, 9])"
      ]
     },
     "execution_count": 136,
     "metadata": {},
     "output_type": "execute_result"
    }
   ],
   "source": [
    "np.arange(10)"
   ]
  },
  {
   "cell_type": "code",
   "execution_count": 137,
   "id": "cc0d3cb8-a56c-48dd-ae2e-8b983fe53bbb",
   "metadata": {},
   "outputs": [
    {
     "data": {
      "text/plain": [
       "array([5, 6, 7, 8, 9])"
      ]
     },
     "execution_count": 137,
     "metadata": {},
     "output_type": "execute_result"
    }
   ],
   "source": [
    "np.arange(5, 10)"
   ]
  },
  {
   "cell_type": "code",
   "execution_count": 138,
   "id": "f7bd02d1-d14b-49aa-8034-8c1fb410a91e",
   "metadata": {},
   "outputs": [
    {
     "data": {
      "text/plain": [
       "array([0. , 0.1, 0.2, 0.3, 0.4, 0.5, 0.6, 0.7, 0.8, 0.9])"
      ]
     },
     "execution_count": 138,
     "metadata": {},
     "output_type": "execute_result"
    }
   ],
   "source": [
    "np.arange(0, 1, .1)"
   ]
  },
  {
   "cell_type": "markdown",
   "id": "5a86fdff-241d-491e-bb7e-50854dddfc52",
   "metadata": {},
   "source": [
    "__reshape__"
   ]
  },
  {
   "cell_type": "code",
   "execution_count": 139,
   "id": "ea1d191a-f859-4077-a74d-1421256a09db",
   "metadata": {},
   "outputs": [
    {
     "data": {
      "text/plain": [
       "array([[0, 1, 2, 3, 4],\n",
       "       [5, 6, 7, 8, 9]])"
      ]
     },
     "execution_count": 139,
     "metadata": {},
     "output_type": "execute_result"
    }
   ],
   "source": [
    "np.arange(10).reshape(2,5)"
   ]
  },
  {
   "cell_type": "code",
   "execution_count": 140,
   "id": "70a0ea69-83ad-427b-8c54-ca99297d5e4d",
   "metadata": {},
   "outputs": [
    {
     "data": {
      "text/plain": [
       "array([[0, 1],\n",
       "       [2, 3],\n",
       "       [4, 5],\n",
       "       [6, 7],\n",
       "       [8, 9]])"
      ]
     },
     "execution_count": 140,
     "metadata": {},
     "output_type": "execute_result"
    }
   ],
   "source": [
    "np.arange(10).reshape(5,2)"
   ]
  },
  {
   "cell_type": "markdown",
   "id": "a4e223bf-ffc0-4de0-bbf0-1c9d376a3bcb",
   "metadata": {},
   "source": [
    "__linspace__"
   ]
  },
  {
   "cell_type": "code",
   "execution_count": 141,
   "id": "e04704bb-b025-4b95-bd7c-79aa1700cd3c",
   "metadata": {},
   "outputs": [
    {
     "data": {
      "text/plain": [
       "array([0.  , 0.25, 0.5 , 0.75, 1.  ])"
      ]
     },
     "execution_count": 141,
     "metadata": {},
     "output_type": "execute_result"
    }
   ],
   "source": [
    "np.linspace(0, 1, 5)"
   ]
  },
  {
   "cell_type": "code",
   "execution_count": 142,
   "id": "7ec0be87-dd4e-4cd0-96e9-e41ec5736ee2",
   "metadata": {},
   "outputs": [
    {
     "data": {
      "text/plain": [
       "array([0.        , 0.05263158, 0.10526316, 0.15789474, 0.21052632,\n",
       "       0.26315789, 0.31578947, 0.36842105, 0.42105263, 0.47368421,\n",
       "       0.52631579, 0.57894737, 0.63157895, 0.68421053, 0.73684211,\n",
       "       0.78947368, 0.84210526, 0.89473684, 0.94736842, 1.        ])"
      ]
     },
     "execution_count": 142,
     "metadata": {},
     "output_type": "execute_result"
    }
   ],
   "source": [
    "np.linspace(0, 1, 20)"
   ]
  },
  {
   "cell_type": "code",
   "execution_count": 143,
   "id": "bcf2ab89-a617-47f1-8ad2-130e0076a012",
   "metadata": {},
   "outputs": [
    {
     "data": {
      "text/plain": [
       "array([0.  , 0.05, 0.1 , 0.15, 0.2 , 0.25, 0.3 , 0.35, 0.4 , 0.45, 0.5 ,\n",
       "       0.55, 0.6 , 0.65, 0.7 , 0.75, 0.8 , 0.85, 0.9 , 0.95])"
      ]
     },
     "execution_count": 143,
     "metadata": {},
     "output_type": "execute_result"
    }
   ],
   "source": [
    "np.linspace(0, 1, 20, False)"
   ]
  },
  {
   "cell_type": "markdown",
   "id": "750c177e-fe3c-45f3-b96b-67246c2ce7dd",
   "metadata": {},
   "source": [
    "__zeros, ones, empty__"
   ]
  },
  {
   "cell_type": "code",
   "execution_count": 144,
   "id": "92ba416a-78ec-4ab4-ba00-de2b0a2cdc01",
   "metadata": {},
   "outputs": [
    {
     "data": {
      "text/plain": [
       "array([0., 0., 0., 0., 0.])"
      ]
     },
     "execution_count": 144,
     "metadata": {},
     "output_type": "execute_result"
    }
   ],
   "source": [
    "np.zeros(5)"
   ]
  },
  {
   "cell_type": "code",
   "execution_count": 145,
   "id": "bb1ce89d-f355-47ba-96db-22dfd09f8d60",
   "metadata": {},
   "outputs": [
    {
     "data": {
      "text/plain": [
       "array([[0., 0., 0.],\n",
       "       [0., 0., 0.],\n",
       "       [0., 0., 0.]])"
      ]
     },
     "execution_count": 145,
     "metadata": {},
     "output_type": "execute_result"
    }
   ],
   "source": [
    "np.zeros((3,3))"
   ]
  },
  {
   "cell_type": "code",
   "execution_count": 146,
   "id": "ac1b76fd-ff21-4587-af83-9922ba536970",
   "metadata": {},
   "outputs": [
    {
     "data": {
      "text/plain": [
       "array([[0, 0, 0],\n",
       "       [0, 0, 0],\n",
       "       [0, 0, 0]])"
      ]
     },
     "execution_count": 146,
     "metadata": {},
     "output_type": "execute_result"
    }
   ],
   "source": [
    "np.zeros((3,3), dtype=np.int_)"
   ]
  },
  {
   "cell_type": "code",
   "execution_count": 147,
   "id": "d078db4b-9254-4078-9c0f-59624b377acc",
   "metadata": {},
   "outputs": [
    {
     "data": {
      "text/plain": [
       "array([1., 1., 1., 1., 1.])"
      ]
     },
     "execution_count": 147,
     "metadata": {},
     "output_type": "execute_result"
    }
   ],
   "source": [
    "np.ones(5)"
   ]
  },
  {
   "cell_type": "code",
   "execution_count": 148,
   "id": "b1ab44a0-e526-4d9f-a610-51d639e0bce8",
   "metadata": {},
   "outputs": [
    {
     "data": {
      "text/plain": [
       "array([[1., 1., 1.],\n",
       "       [1., 1., 1.],\n",
       "       [1., 1., 1.]])"
      ]
     },
     "execution_count": 148,
     "metadata": {},
     "output_type": "execute_result"
    }
   ],
   "source": [
    "np.ones((3,3))"
   ]
  },
  {
   "cell_type": "code",
   "execution_count": 149,
   "id": "521b0af2-ef54-4127-8260-d8558304ad87",
   "metadata": {},
   "outputs": [
    {
     "data": {
      "text/plain": [
       "array([1., 1., 1., 1., 1.])"
      ]
     },
     "execution_count": 149,
     "metadata": {},
     "output_type": "execute_result"
    }
   ],
   "source": [
    "np.empty(5)"
   ]
  },
  {
   "cell_type": "code",
   "execution_count": 150,
   "id": "ebcfd277-fddb-4d11-a270-9460a1d20830",
   "metadata": {},
   "outputs": [
    {
     "data": {
      "text/plain": [
       "array([[0.25, 0.5 ],\n",
       "       [0.75, 1.  ]])"
      ]
     },
     "execution_count": 150,
     "metadata": {},
     "output_type": "execute_result"
    }
   ],
   "source": [
    "np.empty((2,2))"
   ]
  },
  {
   "cell_type": "markdown",
   "id": "dc56b78c-1675-46ce-b96c-0d88af65535d",
   "metadata": {},
   "source": [
    "__identity and eye__"
   ]
  },
  {
   "cell_type": "code",
   "execution_count": 151,
   "id": "70ef4d75-3fb3-459c-9269-b9a737166a55",
   "metadata": {},
   "outputs": [
    {
     "data": {
      "text/plain": [
       "array([[1., 0., 0.],\n",
       "       [0., 1., 0.],\n",
       "       [0., 0., 1.]])"
      ]
     },
     "execution_count": 151,
     "metadata": {},
     "output_type": "execute_result"
    }
   ],
   "source": [
    "np.identity(3)"
   ]
  },
  {
   "cell_type": "code",
   "execution_count": 152,
   "id": "b05172e9-bf1c-42f4-b89b-954bab5b22ed",
   "metadata": {},
   "outputs": [
    {
     "data": {
      "text/plain": [
       "array([[1., 0., 0.],\n",
       "       [0., 1., 0.],\n",
       "       [0., 0., 1.]])"
      ]
     },
     "execution_count": 152,
     "metadata": {},
     "output_type": "execute_result"
    }
   ],
   "source": [
    "np.eye(3,3)"
   ]
  },
  {
   "cell_type": "code",
   "execution_count": 153,
   "id": "baf4302f-1028-407f-8c40-4f2c345a7600",
   "metadata": {},
   "outputs": [
    {
     "data": {
      "text/plain": [
       "array([[1., 0., 0., 0.],\n",
       "       [0., 1., 0., 0.],\n",
       "       [0., 0., 1., 0.],\n",
       "       [0., 0., 0., 1.],\n",
       "       [0., 0., 0., 0.],\n",
       "       [0., 0., 0., 0.],\n",
       "       [0., 0., 0., 0.],\n",
       "       [0., 0., 0., 0.]])"
      ]
     },
     "execution_count": 153,
     "metadata": {},
     "output_type": "execute_result"
    }
   ],
   "source": [
    "np.eye(8,4)"
   ]
  },
  {
   "cell_type": "code",
   "execution_count": 154,
   "id": "1558c70f-45d8-47bb-81b5-edcee8132d97",
   "metadata": {},
   "outputs": [
    {
     "data": {
      "text/plain": [
       "array([[0., 1., 0., 0.],\n",
       "       [0., 0., 1., 0.],\n",
       "       [0., 0., 0., 1.],\n",
       "       [0., 0., 0., 0.],\n",
       "       [0., 0., 0., 0.],\n",
       "       [0., 0., 0., 0.],\n",
       "       [0., 0., 0., 0.],\n",
       "       [0., 0., 0., 0.]])"
      ]
     },
     "execution_count": 154,
     "metadata": {},
     "output_type": "execute_result"
    }
   ],
   "source": [
    "np.eye(8,4, k=1)"
   ]
  },
  {
   "cell_type": "code",
   "execution_count": 155,
   "id": "8821a2e6-1680-44df-aa03-c976a1c46765",
   "metadata": {},
   "outputs": [
    {
     "data": {
      "text/plain": [
       "array([[0., 0., 0., 0.],\n",
       "       [0., 0., 0., 0.],\n",
       "       [0., 0., 0., 0.],\n",
       "       [1., 0., 0., 0.],\n",
       "       [0., 1., 0., 0.],\n",
       "       [0., 0., 1., 0.],\n",
       "       [0., 0., 0., 1.],\n",
       "       [0., 0., 0., 0.]])"
      ]
     },
     "execution_count": 155,
     "metadata": {},
     "output_type": "execute_result"
    }
   ],
   "source": [
    "np.eye(8,4,k=-3)"
   ]
  },
  {
   "cell_type": "code",
   "execution_count": 156,
   "id": "75e6d320-907d-44df-8394-ade3792f7f96",
   "metadata": {},
   "outputs": [
    {
     "data": {
      "text/plain": [
       "'W'"
      ]
     },
     "execution_count": 156,
     "metadata": {},
     "output_type": "execute_result"
    }
   ],
   "source": [
    "\"Hello World\"[6]"
   ]
  }
 ],
 "metadata": {
  "kernelspec": {
   "display_name": "Python 3 (ipykernel)",
   "language": "python",
   "name": "python3"
  },
  "language_info": {
   "codemirror_mode": {
    "name": "ipython",
    "version": 3
   },
   "file_extension": ".py",
   "mimetype": "text/x-python",
   "name": "python",
   "nbconvert_exporter": "python",
   "pygments_lexer": "ipython3",
   "version": "3.11.5"
  }
 },
 "nbformat": 4,
 "nbformat_minor": 5
}
