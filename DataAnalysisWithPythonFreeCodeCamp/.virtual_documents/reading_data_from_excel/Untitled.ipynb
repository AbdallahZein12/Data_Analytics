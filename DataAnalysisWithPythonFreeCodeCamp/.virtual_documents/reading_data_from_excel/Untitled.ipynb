








import pandas as pd




















df = pd.read_excel('products.xlsx')


df.head()














pd.read_excel('products.xlsx').head()


pd.read_excel('products.xlsx', header=None).head()











df = pd.read_excel('products.xlsx', index_col=[0])


df.head()





products = pd.read_excel('products.xlsx', sheet_name='Products', index_col='product_id')


products.head()


merchants = pd.read_excel('products.xlsx', sheet_name='Merchants', index_col='merchant_id')


merchants.head()








excel_file = pd.ExcelFile('products.xlsx')





excel_file.sheet_names





products = excel_file.parse('Products')


products.head()





products = excel_file.parse(sheet_name='Products', header=0, index_col='product_id')


products.head()


products.dtypes


merchants = excel_file.parse(sheet_name='Merchants',index_col='merchant_id')


merchants.head()


merchants.dtypes











products.head()





products.to_excel('out.xlsx')


pd.read_excel('out.xlsx').head()





products.to_excel('out.xlsx', sheet_name='Products')





products.to_excel('out.xlsx', index=None)


pd.read_excel('out.xlsx').head()











products.to_excel('out.xlsx', sheet_name='Products', startrow=1, startcol=2)











writer = pd.ExcelWriter('out.xlsx')


writer





with writer:
    products.to_excel(writer, sheet_name='Products')
    merchants.to_excel(writer, sheet_name='Merchants')


pd.read_excel('out.xlsx', sheet_name='Products').head()





pd.read_excel('out.xlsx',sheet_name='Merchants').head()



