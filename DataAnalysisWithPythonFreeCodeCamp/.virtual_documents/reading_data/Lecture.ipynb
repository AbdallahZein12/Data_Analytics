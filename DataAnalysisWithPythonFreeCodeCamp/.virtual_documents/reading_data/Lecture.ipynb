








import pandas as pd











with open('btc-market-price.csv','r') as fp:
    print(fp)





with open('btc-market-price.csv','r') as fp: 
    for index, line in enumerate(fp.readlines()):
        # Read just the first 1- lines 
        if index < 10:
            print(index, line)





with open('btc-market-price.csv','r') as fp:
    for index, line in enumerate(fp.readlines()):
        #read just the first 10 lines
        if index < 10: 
            timestamp, price = line.split(',')
            print(f"{timestamp}: ${price}")





!head exam_review.csv





import csv


with open('btc-market-price.csv','r') as fp:
    reader = csv.reader(fp)
    for index, (timestamp, price) in enumerate(reader):
        # Read just the first 10 lines 
        if index < 10: 

            print(f"{timestamp}: ${price}")





with open('exam_review.csv','r') as fp:
    reader = csv.reader(fp, delimiter='>') # special delimiter
    next(reader) # skipping header 
    for index, values in enumerate(reader):
        if not values: 
            continue # skip empty lines
        fname, lname, age, math, french = values
        print(f"{fname} {lname} (age {age}) got {math} in Math and {french} in French")























pd.read_csv?


csv_url = "https://raw.githubusercontent.com/datasets/gdp/master/data/gdp.csv"

pd.read_csv(csv_url).head()





df = pd.read_csv('btc-market-price.csv')

df.head()











df = pd.read_csv('btc-market-price.csv', header=None)


df.head()





df = pd.read_csv('btc-market-price.csv', header=None, na_values=['','?','-'])


df.head()





df = pd.read_csv('btc-market-price.csv',header=None, na_values=['','?','-'], names=['Timestamp', 'Price'])


df.head()


df.info()








df = pd.read_csv('btc-market-price.csv', header=None, names=['Timestamp','Price'], na_values=['','?','-'],dtype={'Price':'float'})


df.head()


df.info()





pd.to_datetime(df['Timestamp'],format='%d/%m/%y %H:%M').head()


df['Timestamp'] = pd.to_datetime(df['Timestamp'])








df = pd.read_csv('btc-market-price.csv',header=None, names=['Timestamp','Price'],na_values=['','?','-'],dtype={'Price':'float'}, parse_dates=[0], date_format='%d/%m/%y %H:%M')


df.head()


df.dtypes





df = pd.read_csv('btc-market-price.csv',header=None, names=['Timestamp','Price'], na_values=['','?','-'], dtype={'Price':'float'}, parse_dates=[0], 
                 date_format='%d/%m/%y %H:%M',
                index_col=[0])


df.head()


df.dtypes











exam_df = pd.read_csv('exam_review.csv')


exam_df





exam_df = pd.read_csv('exam_review.csv', sep='>')


exam_df














exam_df = pd.read_csv('exam_review.csv', sep='>')


exam_df


exam_df[['math_score','french_score']].dtypes





exam_df = pd.read_csv('exam_review.csv', sep='>', decimal=',')


exam_df


exam_df[['french_score', 'math_score']].dtypes


exam_df = pd.read_csv('exam_review.csv', sep='>', thousands=',')


exam_df


exam_df[['french_score','math_score']].dtypes








exam_df = pd.read_csv('exam_review.csv', sep='>', decimal=',')


exam_df





pd.read_csv('exam_review.csv', sep='>', decimal=',',skiprows=2)





exam_df = pd.read_csv('exam_review.csv', sep='>',decimal=',',skiprows=[1,3])


exam_df








pd.read_csv('exam_review.csv',sep='>', decimal=',', skip_blank_lines=False)








pd.read_csv('exam_review.csv', sep='>', decimal=',', usecols=['first_name','last_name','age'])





pd.read_csv('exam_review.csv', usecols=[0,1,2], sep='>')











exam_test_1 = pd.read_csv('exam_review.csv', sep='>', decimal=',', usecols=['last_name']) 


type(exam_test_1)


exam_test_2 = pd.read_csv('exam_review.csv', sep='>', decimal=',', usecols=['last_name']).squeeze()


exam_test_2





exam_df


exam_df.to_csv()


exam_df.to_csv('out.csv')


pd.read_csv('out.csv')


exam_df.to_csv('out.csv', index=None)


pd.read_csv('out.csv')



