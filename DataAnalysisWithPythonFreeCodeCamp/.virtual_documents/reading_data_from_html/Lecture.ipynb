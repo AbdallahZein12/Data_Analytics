








!pip install lxml


import pandas as pd 
from io import StringIO














html_string = """
<table>
    <thead>
      <tr>
        <th>Order date</th>
        <th>Region</th> 
        <th>Item</th>
        <th>Units</th>
        <th>Unit cost</th>
      </tr>
    </thead>
    <tbody>
      <tr>
        <td>1/6/2018</td>
        <td>East</td> 
        <td>Pencil</td>
        <td>95</td>
        <td>1.99</td>
      </tr>
      <tr>
        <td>1/23/2018</td>
        <td>Central</td> 
        <td>Binder</td>
        <td>50</td>
        <td>19.99</td>
      </tr>
      <tr>
        <td>2/9/2018</td>
        <td>Central</td> 
        <td>Pencil</td>
        <td>36</td>
        <td>4.99</td>
      </tr>
      <tr>
        <td>3/15/2018</td>
        <td>West</td> 
        <td>Pen</td>
        <td>27</td>
        <td>19.99</td>
      </tr>
    </tbody>
</table>
"""


dfs = pd.read_html(StringIO(str(html_string)))


len(dfs)


df = dfs[0]
df





df.shape


df.loc[df['Region'] == 'Central']


df.loc[df['Units'] > 35]








html_string = """
<table>
  <tr>
    <td>Order date</td>
    <td>Region</td> 
    <td>Item</td>
    <td>Units</td>
    <td>Unit cost</td>
  </tr>
  <tr>
    <td>1/6/2018</td>
    <td>East</td> 
    <td>Pencil</td>
    <td>95</td>
    <td>1.99</td>
  </tr>
  <tr>
    <td>1/23/2018</td>
    <td>Central</td> 
    <td>Binder</td>
    <td>50</td>
    <td>19.99</td>
  </tr>
  <tr>
    <td>2/9/2018</td>
    <td>Central</td> 
    <td>Pencil</td>
    <td>36</td>
    <td>4.99</td>
  </tr>
  <tr>
    <td>3/15/2018</td>
    <td>West</td> 
    <td>Pen</td>
    <td>27</td>
    <td>19.99</td>
  </tr>
</table>
"""


from IPython.display import display, HTML
display(HTML(html_string))


pd.read_html(StringIO(str(html_string)))[0]





pd.read_html(StringIO(str(html_string)), header=0)[0]














html_url = "https://www.basketball-reference.com/leagues/NBA_2019_per_game.html"


nba_tables = pd.read_html(html_url)


len(nba_tables)





nba = nba_tables[0]


nba.head()


nba.head(25)


nba.drop(range(22, nba.shape[0] + 1, 20),inplace=True)


nba.head(25)








import requests

html_url = "https://en.wikipedia.org/wiki/The_Simpsons"


r = requests.get(html_url)

wiki_tables = pd.read_html(StringIO(r.text), header=0,skiprows=[1,2])


len(wiki_tables)


simpsons = wiki_tables[2]


simpsons.head()





# simpsons.drop([0,1],inplace=True)


simpsons.set_index('Season', inplace=True)





simpsons['No. of episodes'].unique()


simpsons = simpsons.loc[simpsons['No. of episodes'] != 'TBA']


min_season = simpsons['No. of episodes'].min()


min_season


simpsons.loc[simpsons['No. of episodes'] == min_season]











simpsons.head()


simpsons.to_csv('out.csv')


pd.read_csv('out.csv',index_col='Season').head()



