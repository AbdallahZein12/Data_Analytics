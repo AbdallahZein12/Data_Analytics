


import numpy as np 





a = np.array([1,2,3], dtype='int32')
print(a)


b = np.array([[9.0,8.0,7.0],[6.0,5.0,4.0]])
print(b)


# Get Dimension 
a.ndim


# Get Shape
a.shape


b.shape


# Get Type
a.dtype


# Get Size
a.itemsize


# Get total Size
a.nbytes


b.itemsize


b.itemsize * b.size


b.nbytes





a = np.array([[1,2,3,4,5,6,7],[8,9,10,11,12,13,14]])
print(a)


a.shape


# Get a specific element [r,c]

a[1, 5]


a[1,-2]


# Get a specific row

a[0, :]


# Get a specific column

a[:, 2]


# Getting a little more fancy [startindex:endindex:stepsize]
a[0, 1:6:2]


a[0, 1:-1:2]


a


a[1,5] = 20
print(a)

a[:,2] = 5
print(a)


a[:,2] = [1,2]
print(a)





b = np.array([[[1,2],[3,4]],[[5,6],[7,8]]])


b


# Get a specific element (Work outside in)

b[0,1,1]


b[:,1,:]


# Replace 
b[:,1,:] = [[9,9],[8,8]]


b





# All 0s matrix

np.zeros(5)


np.zeros((2,2))


np.zeros((2,2,3))


# All ones matrix

np.ones((4,2,2), dtype='int32')


# Any other number

np.full((2,2), 99,dtype='int32')


# Any other number (full_like)
np.full_like(a,4)


# Random decimal numbers
np.random.rand(4,2,3)


np.random.random_sample(a.shape)


# Random Integer Values
np.random.randint(7, size=(3,3))


# Random Integer Values
np.random.randint(-4,7, size=(3,3))


# THe identity matrix
np.identity(3)


# Repeat an array
arr = np.array([[1,2,3]])
r1 = np.repeat(arr,3, axis=0)
print(r1)





output = np.ones((5,5))

output


z = np.zeros((3,3))

z[1,1] = 9


z


output[1:-1,1:-1] =z


output





a = np.array([1,2,3])

b = a

b





b = a.copy()
b[0] = 100

print(a,b)





a = np.array([1,2,3,4])
print(a)


a + 2


a - 2


a * 2


a / 2


b = np.array([1,0,1,0])


a+b


a ** 2


# Take the sin
np.sin(a)





a = np.ones((2,3))
a


b = np.full((3,2),2)
print(b)


np.matmul(a,b)


# Find the determinant
c = np.identity(3)
np.linalg.det(c)





stats = np.array([[1,2,3],
                  [4,5,6]])

stats


np.min(stats,axis=1)


np.max(stats)


np.max(stats,axis=1)


np.sum(stats, axis=0)





before = np.array([[1,2,3,4],[5,6,7,8]])
print(before)


after = before.reshape((4,2))
print(after)


# vertically stacking vectors
v1 = np.array([1,2,3,4])
v2 = np.array([5,6,7,8])

np.vstack([v1,v2,v2,v2])


# Horizontal stack
h1 = np.ones((2,4))
h2 = np.zeros((2,2))

np.hstack((h1,h2))





filedata = np.genfromtxt('data.txt', delimiter=',')

filedata = filedata.astype('int32')

filedata





filedata > 5


filedata[filedata > 50]


## You can index with a list in numpy
a = np.array([1,2,3,4,5,6,7,8,9])
a[[1,2,3]]


np.any(filedata > 7, axis=0)


np.all(filedata > 5, axis=1)


((filedata > 5) & (filedata < 7))


(~((filedata > 5) & (filedata < 7)))






