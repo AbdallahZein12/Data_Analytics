








import pandas as pd











import sqlite3





conn = sqlite3.connect('chinook.db')





cur = conn.cursor()


cur.execute('SELECT * FROM employees LIMIT 5;')





results = cur.fetchall()


results





df = pd.DataFrame(results)


df.head()





cur.close()
conn.close()











conn = sqlite3.connect('chinook.db')


df = pd.read_sql('SELECT * FROM employees;', conn)


df.head()


df = pd.read_sql('SELECT * FROM employees;', conn, index_col=['EmployeeId'], parse_dates=['BirthDate','HireDate'])


df.head()


df.info()


df['ReportsTo'].isna().sum()


df['ReportsTo'].mean()


df['ReportsTo'] > 1.75


df['City'] = df['City'].astype('category')


df.info()











conn = sqlite3.connect('chinook.db')


df = pd.read_sql_query('SELECT * FROM employees LIMIT 5;', conn)


df.head()


df = pd.read_sql_query('SELECT * FROM employees;', conn, index_col='EmployeeId',parse_dates=['BirthDate','HireDate'])


df.head()











from sqlalchemy import create_engine


engine = create_engine('sqlite:///chinook.db')

connection = engine.connect()


df = pd.read_sql_table('employees', con=connection)


df.head()


df = pd.read_sql_table('employees', con=connection, index_col='EmployeeId', parse_dates=['BirthDate','HireDate'])


df.head()


connection.close()











df.head()


df.to_sql('employees3',conn)


pd.read_sql_query('SELECT * FROM employees2;', conn).head()


#pd.read_sql_query('DROP TABLE employees2;', conn)








pd.DataFrame().to_sql('employees2', conn, if_exists='replace')


pd.read_sql_query('SELECT * FROM employees2;', conn).head()


df.to_sql('employees2',conn, if_exists='replace')


pd.read_sql_query('SELECT * FROM employees2;', conn).head()


conn.close()
