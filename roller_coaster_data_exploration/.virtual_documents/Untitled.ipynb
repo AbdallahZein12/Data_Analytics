








import pandas as pd 
import numpy as np  
import matplotlib.pyplot as plt
import seaborn as sns
plt.style.use('ggplot')
pd.set_option('display.max_columns', 200)


%matplotlib inline


df = pd.read_csv('coaster_db.csv',parse_dates=['opening_date_clean'])


df.shape


df.head(5)


df.columns


df.info(verbose=False)


df.dtypes


df.describe()


date_columns = [i for i in df.columns if "Date" in i.title()]


df[date_columns].head(5)











df.head(5)


df.columns


df = df[['coaster_name', 
    #  'Length', 'Speed', 
       'Location', 'Status', 
    #  'Opening date',
    #  'Type', 
       'Manufacturer', 
    #  'Height restriction', 
    #  'Model', 'Height',
    #  'Inversions', 'Lift/launch system', 
    #   'Cost', 
    #  'Trains', 'Park section',
    #   'Duration', 
    #  'Capacity', 'G-force', 'Designer', 'Max vertical angle',
    #  'Drop', 'Soft opening date', 'Fast Lane available', 'Replaced',
    #  'Track layout', 'Fastrack available', 'Soft opening date.1',
    #  'Closing date', 'Opened', 'Replaced by', 'Website',
    #  'Flash Pass Available', 'Must transfer from wheelchair', 'Theme',
    #  'Single rider line available', 'Restraint Style',
    #  'Flash Pass available', 
    #   'Acceleration', 
    #  'Restraints', 'Name',
       'year_introduced', 'latitude', 'longitude', 
       'Type_Main',
       'opening_date_clean', 
    #  'speed1', 'speed2', 'speed1_value', 'speed1_unit',
       'speed_mph', 
    #  'height_value', 'height_unit', 
       'height_ft',
       'Inversions_clean', 'Gforce_clean']].copy()


df.head(5)


df.shape


df.dtypes


# Rename our columns
df.columns


df = df.rename(columns={'coaster_name':'Coaster_Name',
                   'year_introduced':'Year_Introduced',
                   'latitude':'Latitude',
                   'longitude':'Longitude',
                   'opening_date_clean':'Opening_Date',
                   'speed_mph':'Speed_mph',
                   'height_ft':'Height_ft',
                   'Inversions_clean':'Inversions',
                   'Gforce_clean':'Gforce'})


df.head(5)


df.isna().sum()


df.loc[df.duplicated()]


df.loc[df.duplicated(subset=['Coaster_Name'])].head(5)


df.loc[df.duplicated(subset=['Coaster_Name'])].shape[0]


# Checking an example duplicate
df.loc[df['Coaster_Name'] == 'Crystal Beach Cyclone']





df.columns


df.duplicated(subset=['Coaster_Name','Location','Opening_Date']).sum()


df = df.loc[~(df.duplicated(subset=['Coaster_Name','Location','Opening_Date']))].reset_index(drop=True).copy()


df.shape











df['Year_Introduced'].value_counts()


ax = df['Year_Introduced'].value_counts().head(10).plot(kind='bar', title='Top 10 Years Coasters Introduced')
ax.set_xlabel("Year Introduced")
ax.set_ylabel("Count")
plt.show()


ax = df['Speed_mph'].plot(kind='hist',bins=20,title='Coaster Speed(mph)')
ax.set_xlabel("Speed (mph)")
plt.show()


ax = df['Speed_mph'].plot(kind='kde',title='Coaster Speed(mph)')
ax.set_xlabel("Speed (mph)")
plt.show()


df.head(5)


ax = df['Type_Main'].value_counts().plot(kind='pie',title='Most Common Material Used', startangle=90, autopct='%1.1f%%')
ax.legend()
ax.set_ylabel("")
ax.axis('equal')
plt.show()





sorted_df_speed = df.sort_values(by='Speed_mph', ascending=False).head(10).reset_index(drop=True).copy()


sorted_df_speed





sorted_df_speed.loc[sorted_df_speed['Status'] == 'Operating']








sorted_df_speed['Year_Introduced'] = sorted_df_speed['Year_Introduced'].astype(str)


sorted_df_speed.sort_values(by='Year_Introduced').plot(kind='scatter',x='Year_Introduced',y='Speed_mph',title='Top 10 Fastest Coasters and their years!')
plt.show()


fastest_per_year = df.sort_values(by='Speed_mph',ascending=False).reset_index(drop=True).copy()


fastest_per_year = fastest_per_year.dropna(subset=['Speed_mph'])


fastest_per_year = fastest_per_year[~(fastest_per_year.duplicated(subset=['Year_Introduced']))]


fastest_per_year['Year_Introduced'].unique()


fastest_per_year['Year_Introduced'] = fastest_per_year['Year_Introduced'].astype(str)


fastest_per_year.sort_values(by='Year_Introduced').tail(5)


fastest_per_year.sort_values(by='Year_Introduced').tail(30).plot(kind='scatter', x='Year_Introduced', y='Speed_mph',figsize=(17,6),title='Fastest Coaster per Year!')
plt.show()


df.plot(kind='scatter',x='Speed_mph',y='Height_ft',title='Coaster Speed vs. Height')
plt.show()


sns.scatterplot(x='Speed_mph',y='Height_ft', hue='Year_Introduced',data=df)
plt.show()


sns.pairplot(data=df, vars=['Year_Introduced', 'Speed_mph', 'Height_ft', 'Inversions','Gforce'], hue='Type_Main')
plt.show()


df_corr = df[['Year_Introduced','Speed_mph','Height_ft','Inversions','Gforce']].dropna().corr()


df_corr


sns.heatmap(data=df_corr,annot=True)
plt.show()








df.head()


df['Location'].value_counts()


ax = df.loc[df['Location'] != 'Other'].groupby('Location')['Speed_mph'].agg(['mean','count']).query('count >= 10').sort_values('mean')['mean'].plot(kind='barh', figsize=(12,5), title='Average Coaster Speed by Location')
ax.set_xlabel('Average Coaster Speed')
plt.show()



